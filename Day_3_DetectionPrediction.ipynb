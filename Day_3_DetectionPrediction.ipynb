{
 "cells": [
  {
   "cell_type": "markdown",
   "id": "70fd7d89-2609-4939-8b72-d26e0a0f6c90",
   "metadata": {
    "jp-MarkdownHeadingCollapsed": true,
    "tags": []
   },
   "source": [
    "# Rainsmore Workshop - Day 3"
   ]
  },
  {
   "cell_type": "markdown",
   "id": "3419de8e-e083-4f98-8a5d-48959e465f3f",
   "metadata": {},
   "source": [
    "# Pacakge install\n",
    "Same to monday :\n",
    "    \n",
    "> ```conda activate rainsmore```\n",
    "\n",
    "you can install the packages required by the project of this environment using the command\n",
    "\n",
    "> ```conda install seaborn kneed``` \n",
    "\n",
    "* seaborn - data visualization package\n",
    "* kneed - identify the knee/elbow point of a line fit to the data"
   ]
  },
  {
   "cell_type": "markdown",
   "id": "10519a86-40f8-40ad-8424-2eb8bf8ded45",
   "metadata": {
    "jp-MarkdownHeadingCollapsed": true,
    "tags": []
   },
   "source": [
    "## Dataset #1 description\n",
    "\n",
    "This dataset comprises transmit and receive signal levels of radio links and rainfall measurements in locations close to the links' ones. It is of interest to analyze the correlation between radio signal levels and rainfall volumes in order to use the former ones to predict the latter ones. The avalaible dataset is provided as a comma separated value (csv) file with different fiels which short description is provided below.\n",
    "\n",
    "### Dataset field description\n",
    "\n",
    "0.   **times**: Time stamp of the measurement.\n",
    "1.   **sens**: Link identifier (290 A-B or 523 A-B for the current data).\n",
    "2.   **TSL_mean**: Mean Transmitted Signal Level (TSL) in dBm.\n",
    "3.   **RSL_mean**: Mean Received Signal Level in dBm.\n",
    "4.   **Rgage**: The measurement of the rainfall for the nearest rain gauge in mm.\n",
    "5.   **freq**: Frequency of operation of the link in GHz.\n",
    "6.   **length**: Radio link length (distance from A to B) in km.\n",
    "7.   **cfakr**: estimated coeffient $a$ of the theoretical relationship between specifit attenuation $k$ (dB/km) and rain rate $R$ in mm/h, given by $k=aR^b$.\n",
    "8.   **cfbkr**: estimated coeffient $b$ of the theoretical relationship between specifit attenuation $k$ (dB/km) and rain rate $R$ in mm/h, given by $k=aR^b$.\n",
    "9.   **link**: Link description.\n",
    "10.  **gage**: Rain gauge identifier (neareast rain gauge).\n",
    "11.  **dist**: Distance between the middle of the radio link and the nearest rain gauge.\n",
    "12.  **code**: Link code (290 or 523 for the current data)"
   ]
  },
  {
   "cell_type": "markdown",
   "id": "87cddf55",
   "metadata": {
    "tags": []
   },
   "source": [
    "# Prediction - it's rain or not?"
   ]
  },
  {
   "cell_type": "code",
   "execution_count": 6,
   "id": "b05e2b3b",
   "metadata": {},
   "outputs": [
    {
     "name": "stdout",
     "output_type": "stream",
     "text": [
      "576 observations (lines) by  14 features (columns)\n"
     ]
    }
   ],
   "source": [
    "import pandas as pd\n",
    "import seaborn as sns\n",
    "import numpy as np\n",
    "import matplotlib.pyplot as plt\n",
    "\n",
    "\n",
    "data=pd.read_csv(\"Dataset_1_Link_AB_290_20210828_20210902.csv\", sep=\";\")\n",
    "\n",
    "# verify your number of observations and columns\n",
    "# change separator if needed ',' or '\\t' ...\n",
    "print(data.shape[0], \"observations (lines) by \", data.shape[1], \"features (columns)\")"
   ]
  },
  {
   "cell_type": "markdown",
   "id": "8b76e35e",
   "metadata": {},
   "source": [
    "## Data exploration"
   ]
  },
  {
   "cell_type": "code",
   "execution_count": null,
   "id": "48f50f30",
   "metadata": {},
   "outputs": [],
   "source": [
    "# quick view\n",
    "print(data.head(n=1))\n",
    "print('...')\n",
    "print(data.tail(n=1))"
   ]
  },
  {
   "cell_type": "code",
   "execution_count": null,
   "id": "1741ebe1",
   "metadata": {},
   "outputs": [],
   "source": [
    "# detection of Meta-Data \n",
    "# a Meta-data could be a unique value, or reduced number (Quality code)\n",
    "# Put \n",
    "metaValue=1\n",
    "card=[]\n",
    "for i in range(data.shape[1]):\n",
    "    card.append(len(data.iloc[:,i].unique()))\n",
    "print(card)\n",
    "[576, 1, 33, 23, 43, 1, 1, 1, 1, 1, 1, 1, 1, 1]\n",
    "# extraction of non Meta information\n",
    "subset= np.array(card)>metaValue\n",
    "df=data.loc[:,subset]\n",
    "print(df.head(n=3))\n",
    "print(\"...\")\n",
    "print(df.tail(n=2))\n",
    "           "
   ]
  },
  {
   "cell_type": "markdown",
   "id": "c3663d06",
   "metadata": {},
   "source": [
    "Les signaux TSL et RSL permettent de récupérer des informations sur l'attenuation de lignes électriques/wifi/... généré en dBm (décibels par milliwatt).\n",
    "\n",
    "De ces signaux, on essayera dans un premier temps de comprendre la dynamique des épisodes de pluie notamment de bien identifier leur début et fin de ces épisodes (signal Rgage Rain gauge, mesuré en mm per time).\n",
    "\n",
    "1- Visualiser chaque signal en fonction du temps\n",
    "\n",
    "2- Vérifier les corrélations éventuelles de manière statistique mais aussi par visualisation, existent-ils une relation simple indépendantes du temps ?\n",
    "\n",
    "3- Existent-ils des événements particuliers. Essayez le kmeans sans prise en compte du temps ?\n",
    "\n",
    "4- Est-il possible de prédire la pluie à H+1, H+12 la pluie et J+1, J+7. Proposer un modèle parmi ceux vu en cours."
   ]
  },
  {
   "cell_type": "markdown",
   "id": "51fbede2-91db-4833-b003-a6ed8487324b",
   "metadata": {},
   "source": [
    "## Data Exploration"
   ]
  },
  {
   "cell_type": "code",
   "execution_count": null,
   "id": "30dc1998",
   "metadata": {},
   "outputs": [],
   "source": [
    "# date identification\n",
    "df['times']=pd.to_datetime(df.loc[:,\"times\"], format=\"%Y-%m-%d %H:%M:%S\")\n",
    "df.set_index(\"times\", inplace=True)"
   ]
  },
  {
   "cell_type": "code",
   "execution_count": null,
   "id": "022109d1",
   "metadata": {},
   "outputs": [],
   "source": [
    "for n in df.columns:\n",
    "    plt.figure(figsize= (16,5))\n",
    "    plt.plot(df[n])\n",
    "    plt.title(n)\n",
    "    plt.show()"
   ]
  },
  {
   "cell_type": "code",
   "execution_count": null,
   "id": "233437d4",
   "metadata": {},
   "outputs": [],
   "source": [
    "for n in df.columns:\n",
    "    plt.figure(figsize= (16,5))\n",
    "    plt.scatter(df.index,df[n],marker='+')\n",
    "    plt.title(n)\n",
    "    plt.show()"
   ]
  },
  {
   "cell_type": "code",
   "execution_count": null,
   "id": "4c1c839f",
   "metadata": {},
   "outputs": [],
   "source": [
    "# correlation information\n",
    "df.corr().round(2)"
   ]
  },
  {
   "cell_type": "markdown",
   "id": "3159a443",
   "metadata": {},
   "source": [
    "## Identification of Pattern by unsupervised approach"
   ]
  },
  {
   "cell_type": "code",
   "execution_count": 3,
   "id": "a52c72df",
   "metadata": {},
   "outputs": [
    {
     "ename": "ModuleNotFoundError",
     "evalue": "No module named 'kneed'",
     "output_type": "error",
     "traceback": [
      "\u001b[0;31m---------------------------------------------------------------------------\u001b[0m",
      "\u001b[0;31mModuleNotFoundError\u001b[0m                       Traceback (most recent call last)",
      "Cell \u001b[0;32mIn [3], line 2\u001b[0m\n\u001b[1;32m      1\u001b[0m \u001b[38;5;28;01mfrom\u001b[39;00m \u001b[38;5;21;01msklearn\u001b[39;00m\u001b[38;5;21;01m.\u001b[39;00m\u001b[38;5;21;01mcluster\u001b[39;00m \u001b[38;5;28;01mimport\u001b[39;00m KMeans\n\u001b[0;32m----> 2\u001b[0m \u001b[38;5;28;01mfrom\u001b[39;00m \u001b[38;5;21;01mkneed\u001b[39;00m \u001b[38;5;28;01mimport\u001b[39;00m KneeLocator\n\u001b[1;32m      4\u001b[0m df\u001b[38;5;241m.\u001b[39mdescribe()\n",
      "\u001b[0;31mModuleNotFoundError\u001b[0m: No module named 'kneed'"
     ]
    }
   ],
   "source": [
    "from sklearn.cluster import KMeans\n",
    "from kneed import KneeLocator\n",
    "\n",
    "df.describe()"
   ]
  },
  {
   "cell_type": "code",
   "execution_count": null,
   "id": "53bd2003",
   "metadata": {},
   "outputs": [],
   "source": [
    "#remove observations with NA information \n",
    "df.dropna(inplace=True)\n",
    "df.describe()\n"
   ]
  },
  {
   "cell_type": "code",
   "execution_count": 4,
   "id": "f1835b6a",
   "metadata": {},
   "outputs": [
    {
     "ename": "NameError",
     "evalue": "name 'df' is not defined",
     "output_type": "error",
     "traceback": [
      "\u001b[0;31m---------------------------------------------------------------------------\u001b[0m",
      "\u001b[0;31mNameError\u001b[0m                                 Traceback (most recent call last)",
      "Cell \u001b[0;32mIn [4], line 5\u001b[0m\n\u001b[1;32m      3\u001b[0m \u001b[38;5;28;01mfrom\u001b[39;00m \u001b[38;5;21;01msklearn\u001b[39;00m\u001b[38;5;21;01m.\u001b[39;00m\u001b[38;5;21;01mpreprocessing\u001b[39;00m \u001b[38;5;28;01mimport\u001b[39;00m StandardScaler\n\u001b[1;32m      4\u001b[0m std_scaler \u001b[38;5;241m=\u001b[39m StandardScaler()\n\u001b[0;32m----> 5\u001b[0m df_scaled \u001b[38;5;241m=\u001b[39m std_scaler\u001b[38;5;241m.\u001b[39mfit_transform(\u001b[43mdf\u001b[49m\u001b[38;5;241m.\u001b[39mto_numpy())\n\u001b[1;32m      6\u001b[0m df_scaled \u001b[38;5;241m=\u001b[39m pd\u001b[38;5;241m.\u001b[39mDataFrame(df_scaled, columns\u001b[38;5;241m=\u001b[39mdf\u001b[38;5;241m.\u001b[39mcolumns)\n\u001b[1;32m      8\u001b[0m df_scaled\u001b[38;5;241m.\u001b[39mhead()\n",
      "\u001b[0;31mNameError\u001b[0m: name 'df' is not defined"
     ]
    }
   ],
   "source": [
    "# Normalisation\n",
    "\n",
    "from sklearn.preprocessing import StandardScaler\n",
    "std_scaler = StandardScaler()\n",
    "df_scaled = std_scaler.fit_transform(df.to_numpy())\n",
    "df_scaled = pd.DataFrame(df_scaled, columns=df.columns)\n",
    "\n",
    "df_scaled.head()\n"
   ]
  },
  {
   "cell_type": "code",
   "execution_count": null,
   "id": "bb4cec09",
   "metadata": {},
   "outputs": [],
   "source": [
    "#identify pattern structure without temporal information\n",
    "sse = []\n",
    "Kmax = 50\n",
    "for k in range(1, Kmax):\n",
    "    kmeans = KMeans(init = \"random\", n_clusters = k, n_init = 10, max_iter=300, random_state = 42)\n",
    "    kmeans.fit(df_scaled)\n",
    "    sse.append(kmeans.inertia_)\n",
    "plt.figure(figsize= (16,5))\n",
    "plt.xlabel(\"K number\")\n",
    "plt.ylabel(\"SSE\")\n",
    "plt.plot(sse)    \n",
    "plt.show()\n",
    "kl = KneeLocator(range(1, Kmax), sse, curve=\"convex\", direction=\"decreasing\")\n",
    "kl.elbow"
   ]
  },
  {
   "cell_type": "code",
   "execution_count": null,
   "id": "486f562d",
   "metadata": {},
   "outputs": [],
   "source": [
    "km1 = KMeans(init=\"random\", n_clusters = kl.elbow, n_init=10, max_iter=100, random_state=42)\n",
    "km1.fit(df_scaled)\n",
    "\n",
    "plt.scatter(df.index,df['Rgage'], c=km1.labels_, marker='+')\n",
    "plt.title(f\"k-means k=6\", fontdict={\"fontsize\": 12})\n",
    "plt.show()\n",
    "\n",
    "plt.scatter(df.index,km1.labels_, c=km1.labels_, marker='+')\n",
    "plt.title(\"Rain dynamics\")\n",
    "plt.show()"
   ]
  },
  {
   "cell_type": "code",
   "execution_count": null,
   "id": "df181c28",
   "metadata": {},
   "outputs": [],
   "source": [
    "labels=km1.labels_\n",
    "sns.boxplot(y=df.Rgage, x=labels) ; plt.show() \n",
    "sns.boxplot(y=df.TSL_mean, x=labels) ; plt.show() \n",
    "sns.boxplot(y=df.RSL_mean, x=labels) ; plt.show() "
   ]
  },
  {
   "cell_type": "code",
   "execution_count": null,
   "id": "bf4603e7",
   "metadata": {},
   "outputs": [],
   "source": [
    "proto=km1.cluster_centers_"
   ]
  },
  {
   "cell_type": "markdown",
   "id": "4a91cc3a",
   "metadata": {},
   "source": [
    "## KNearest-Neighbors : clustering, regression, future prediction "
   ]
  },
  {
   "cell_type": "code",
   "execution_count": null,
   "id": "ee4f8d10",
   "metadata": {},
   "outputs": [],
   "source": [
    "## Training as Regressor KNN\n",
    "\n",
    "from sklearn.neighbors import KNeighborsRegressor\n",
    "from sklearn.metrics import mean_squared_error\n",
    "\n",
    "# Does it rain now according to TSL and RSL.\n",
    "\n",
    "X=df.drop(\"Rgage\",axis=1)\n",
    "y=df.Rgage\n",
    "\n",
    "knn_model = KNeighborsRegressor(n_neighbors=3)\n",
    "knn_model.fit(X, y)\n",
    "\n",
    "test_preds = knn_model.predict(X)\n",
    "mse = mean_squared_error(y, test_preds)\n",
    "\n",
    "mse\n",
    "\n",
    "plt.scatter(df.index,y,c='orange',marker='+')\n",
    "plt.scatter(df.index,test_preds,marker=\".\",c='blue')\n",
    "plt.show()"
   ]
  },
  {
   "cell_type": "code",
   "execution_count": null,
   "id": "b6523c62",
   "metadata": {},
   "outputs": [],
   "source": [
    "from sklearn.neighbors import KNeighborsClassifier\n",
    "from sklearn.metrics import mean_squared_error\n",
    "\n",
    "X=df.drop(\"Rgage\",axis=1)\n",
    "yl=labels\n",
    "\n",
    "knn_classifier =KNeighborsClassifier(n_neighbors=3)\n",
    "knn_classifier.fit(X, yl)\n",
    "\n",
    "test_preds = knn_classifier.predict(X)\n",
    "mse = mean_squared_error(yl, test_preds)\n",
    "\n",
    "mse\n",
    "\n",
    "plt.scatter(yl,test_preds)\n",
    "plt.title(\"label confusion\")\n",
    "plt.xlabel(\"true index\")\n",
    "plt.ylabel(\"predicted index\")\n",
    "plt.show()"
   ]
  },
  {
   "cell_type": "markdown",
   "id": "85513847",
   "metadata": {},
   "source": [
    "#### Tomorrow, Rain or not ?"
   ]
  },
  {
   "cell_type": "code",
   "execution_count": 5,
   "id": "418664c6",
   "metadata": {},
   "outputs": [
    {
     "ename": "NameError",
     "evalue": "name 'df' is not defined",
     "output_type": "error",
     "traceback": [
      "\u001b[0;31m---------------------------------------------------------------------------\u001b[0m",
      "\u001b[0;31mNameError\u001b[0m                                 Traceback (most recent call last)",
      "Cell \u001b[0;32mIn [5], line 4\u001b[0m\n\u001b[1;32m      1\u001b[0m \u001b[38;5;66;03m# Training for tomorrow\u001b[39;00m\n\u001b[1;32m      2\u001b[0m \u001b[38;5;28;01mfrom\u001b[39;00m \u001b[38;5;21;01mdatetime\u001b[39;00m \u001b[38;5;28;01mimport\u001b[39;00m timedelta\n\u001b[0;32m----> 4\u001b[0m \u001b[38;5;28mprint\u001b[39m(\u001b[38;5;124m\"\u001b[39m\u001b[38;5;124mdate min=\u001b[39m\u001b[38;5;124m\"\u001b[39m,\u001b[38;5;28mmin\u001b[39m(\u001b[43mdf\u001b[49m\u001b[38;5;241m.\u001b[39mindex))\n\u001b[1;32m      5\u001b[0m \u001b[38;5;28mprint\u001b[39m(\u001b[38;5;124m\"\u001b[39m\u001b[38;5;124mdate max=\u001b[39m\u001b[38;5;124m\"\u001b[39m,\u001b[38;5;28mmax\u001b[39m(df\u001b[38;5;241m.\u001b[39mindex))\n\u001b[1;32m      6\u001b[0m tomorrow \u001b[38;5;241m=\u001b[39m df\u001b[38;5;241m.\u001b[39mindex \u001b[38;5;241m+\u001b[39m timedelta(minutes\u001b[38;5;241m=\u001b[39m\u001b[38;5;241m60\u001b[39m\u001b[38;5;241m*\u001b[39m\u001b[38;5;241m24\u001b[39m)\n",
      "\u001b[0;31mNameError\u001b[0m: name 'df' is not defined"
     ]
    }
   ],
   "source": [
    "# Training for tomorrow\n",
    "from datetime import timedelta\n",
    "\n",
    "print(\"date min=\",min(df.index))\n",
    "print(\"date max=\",max(df.index))\n",
    "tomorrow = df.index + timedelta(minutes=60*24)\n",
    "previous= tomorrow -timedelta(minutes=60*24)\n",
    "\n",
    "#select current date with future date available\n",
    "idf=[index for index, value in enumerate(tomorrow) if value in df.index]\n",
    "idp=[index for index, value in enumerate(previous) if value in df.index]\n",
    "exist=[x for x in idf if x in idp]\n",
    "\n",
    "#print(len(exist))\n",
    "\n",
    "df_future=df.iloc[exist]\n",
    "df_now=df.loc[tomorrow[exist]]\n",
    "\n",
    "X=df_now.drop(\"Rgage\",axis=1)\n",
    "y=df_future.Rgage\n",
    "\n",
    "knn_model = KNeighborsRegressor(n_neighbors=3)\n",
    "knn_model.fit(X, y)\n",
    "\n",
    "test_preds = knn_model.predict(X)\n",
    "mse = mean_squared_error(y, test_preds)\n",
    "\n",
    "plt.scatter(df_future.index,y,c='orange',marker='+')\n",
    "plt.scatter(df_future.index,test_preds,marker=\".\",c='blue')\n",
    "plt.title(\"prediction tomorrow from TSL and RSL\")\n",
    "plt.show()"
   ]
  },
  {
   "cell_type": "code",
   "execution_count": null,
   "id": "8e838890",
   "metadata": {},
   "outputs": [],
   "source": [
    "#Now Predict Tomorrow from TSL, RSL and Rgage\n",
    "X=df_now\n",
    "y=df_future.Rgage\n",
    "\n",
    "knn_model = KNeighborsRegressor(n_neighbors=3)\n",
    "knn_model.fit(X, y)\n",
    "\n",
    "test_preds = knn_model.predict(X)\n",
    "mse = mean_squared_error(y, test_preds)\n",
    "\n",
    "plt.scatter(df_future.index,y,c='orange',marker='+')\n",
    "plt.scatter(df_future.index,test_preds,marker=\".\",c='blue')\n",
    "plt.title(\"prediction tomorrow from TSL and RSL and Rgage at this day\")\n",
    "plt.show()"
   ]
  },
  {
   "cell_type": "markdown",
   "id": "beaf131c",
   "metadata": {},
   "source": [
    "### Linear Regression"
   ]
  },
  {
   "cell_type": "code",
   "execution_count": null,
   "id": "0088b2d3",
   "metadata": {
    "scrolled": true
   },
   "outputs": [],
   "source": [
    "from sklearn.linear_model import LinearRegression\n",
    "\n",
    "X=df.drop(\"Rgage\",axis=1)\n",
    "y=df.Rgage\n",
    "\n",
    "model = LinearRegression()\n",
    "model.fit(X, y)\n",
    "\n",
    "y_pred = model.predict(X)\n",
    "\n",
    "ecart = np.array(y-y_pred)\n",
    "ecartabsolu = np.array([abs(val) for val in ecart])\n",
    "ecartcarre = np.array([val*val] for val in ecart)\n",
    "\n",
    "plt.scatter(range(len(ecart)), ecart)\n",
    "plt.title(\"Prediction error\")\n",
    "plt.show()\n",
    "\n",
    "print(ecartcarre.min())\n",
    "\n",
    "print(f\"error range :{ecart.min()}; {ecart.max()}\")\n",
    "print(f\"error std: {ecart.std()}\")\n",
    "print(f\"error mean:{ecart.mean()}\")"
   ]
  },
  {
   "cell_type": "code",
   "execution_count": null,
   "id": "a1db8c58",
   "metadata": {},
   "outputs": [],
   "source": [
    "### Tree decision\n",
    "\n",
    "# Tree definition - parameter tuning\n",
    "from sklearn.tree import DecisionTreeClassifier \n",
    "arbreFirst = DecisionTreeClassifier(min_samples_split=20,min_samples_leaf=5)\n",
    "\n",
    "#Tree learning\n",
    "arbreFirst.fit(X, labels)\n",
    "                                    \n",
    "# tree view \n",
    "import matplotlib.pyplot as plt \n",
    "from sklearn import tree\n",
    "\n",
    "plt.figure(figsize=(10,10)) \n",
    "tree.plot_tree(arbreFirst,feature_names = X.columns,filled=True) \n",
    "plt.show()"
   ]
  },
  {
   "cell_type": "code",
   "execution_count": null,
   "id": "58b77f66",
   "metadata": {},
   "outputs": [],
   "source": [
    "# rules' visualisation \n",
    "from sklearn.tree import export_text \n",
    "tree_rules = export_text(arbreFirst,feature_names = list(X.columns),show_weights=True)\n",
    "print(tree_rules)"
   ]
  },
  {
   "cell_type": "code",
   "execution_count": null,
   "id": "de5b6a56",
   "metadata": {},
   "outputs": [],
   "source": [
    "#impact of variables \n",
    "impVarFirst={\"Variable\":X.columns,\"Importance\":arbreFirst.feature_importances_} \n",
    "print(pd.DataFrame(impVarFirst).sort_values(by=\"Importance\",ascending=False)) \n"
   ]
  },
  {
   "cell_type": "code",
   "execution_count": null,
   "id": "81ffb013",
   "metadata": {},
   "outputs": [],
   "source": [
    "predFirst_app = arbreFirst.predict(X) \n",
    " \n",
    "#distribution des predictions \n",
    "print(np.unique(predFirst_app,return_counts=True))\n",
    "\n",
    "#matrice de confusion\n",
    "from sklearn import metrics \n",
    "print(metrics.confusion_matrix(labels,predFirst_app))\n",
    "\n",
    "#taux de reconnaissance –\n",
    "print(f'pourcentage reco: {100*metrics.accuracy_score(labels,predFirst_app)}')\n",
    "\n",
    "#taux d'erreur – \n",
    "print(f'taux erreur ={1.0 - metrics.accuracy_score(labels,predFirst_app)}')"
   ]
  },
  {
   "cell_type": "code",
   "execution_count": null,
   "id": "ea4c5b67",
   "metadata": {},
   "outputs": [],
   "source": [
    "from mlxtend.plotting import plot_confusion_matrix\n",
    "conf_matrix= metrics.confusion_matrix(labels,predFirst_app)\n",
    "fig, ax = plot_confusion_matrix(conf_mat=conf_matrix, figsize=(6, 6), cmap=plt.cm.Greens)\n",
    "plt.xlabel('Predictions', fontsize=18)\n",
    "plt.ylabel('Actuals', fontsize=18)\n",
    "plt.title('Confusion Matrix', fontsize=18)\n",
    "plt.show()"
   ]
  },
  {
   "cell_type": "markdown",
   "id": "88e19bc0",
   "metadata": {},
   "source": [
    "**RandomForest as regressor**"
   ]
  },
  {
   "cell_type": "code",
   "execution_count": null,
   "id": "cca39248",
   "metadata": {},
   "outputs": [],
   "source": [
    "## Random Forest\n",
    "\n",
    "from sklearn.ensemble import RandomForestRegressor\n",
    "\n",
    "X=df.drop(\"Rgage\",axis=1)\n",
    "y=df.Rgage\n",
    "\n",
    "#build model\n",
    "regRF =RandomForestRegressor(max_depth=2, random_state=0)\n",
    "#learn model according dataset\n",
    "regRF.fit(X, y)\n",
    "\n",
    "#prediction - verify that Learning is sufficient\n",
    "y_pred=regRF.predict(X)\n",
    "\n",
    "y_pred = model.predict(X)\n",
    "\n",
    "ecart = np.array(y-y_pred)\n",
    "ecartabsolu = np.array([abs(val) for val in ecart])\n",
    "ecartcarre = np.array([val*val] for val in ecart)\n",
    "\n",
    "plt.scatter(range(len(ecart)), ecart)\n",
    "plt.title(\"Prediction RF error\")\n",
    "plt.show()\n",
    "\n",
    "print(ecartcarre.min())\n",
    "\n",
    "print(f\"error range :{ecart.min()}; {ecart.max()}\")\n",
    "print(f\"error std: {ecart.std()}\")\n",
    "print(f\"error mean:{ecart.mean()}\")\n"
   ]
  },
  {
   "cell_type": "markdown",
   "id": "ce9af6ad",
   "metadata": {},
   "source": [
    "## SVM"
   ]
  },
  {
   "cell_type": "code",
   "execution_count": null,
   "id": "0dc6f3df",
   "metadata": {},
   "outputs": [],
   "source": [
    "## SVM\n",
    "from sklearn.svm import LinearSVC\n",
    "from sklearn.pipeline import make_pipeline\n",
    "\n",
    "clf = make_pipeline(StandardScaler(),LinearSVC(random_state=0, tol=1e-5,max_iter=300))\n",
    "clf.fit(X, labels)\n",
    "\n",
    "y_pred=clf.predict(X)\n",
    "print(f'Linear SVM pourcentage reco: {100*metrics.accuracy_score(labels,y_pred)}')\n",
    "\n",
    "\n",
    "from sklearn.svm import SVC\n",
    "clf = make_pipeline(StandardScaler(), SVC(gamma='auto'))\n",
    "clf.fit(X, labels)\n",
    "\n",
    "y_pred=clf.predict(X)\n",
    "print(f'SVC pourcentage reco: {100*metrics.accuracy_score(labels,y_pred)}')\n"
   ]
  },
  {
   "cell_type": "code",
   "execution_count": null,
   "id": "30d519bf",
   "metadata": {},
   "outputs": [],
   "source": []
  },
  {
   "cell_type": "code",
   "execution_count": null,
   "id": "0c5c9e2e",
   "metadata": {},
   "outputs": [],
   "source": []
  }
 ],
 "metadata": {
  "kernelspec": {
   "display_name": "rainsmore",
   "language": "python",
   "name": "rainsmore2"
  },
  "language_info": {
   "codemirror_mode": {
    "name": "ipython",
    "version": 3
   },
   "file_extension": ".py",
   "mimetype": "text/x-python",
   "name": "python",
   "nbconvert_exporter": "python",
   "pygments_lexer": "ipython3",
   "version": "3.10.6"
  }
 },
 "nbformat": 4,
 "nbformat_minor": 5
}
