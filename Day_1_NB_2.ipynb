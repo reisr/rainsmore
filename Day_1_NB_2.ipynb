{
 "cells": [
  {
   "cell_type": "code",
   "execution_count": 1,
   "id": "4e3e49ae",
   "metadata": {},
   "outputs": [],
   "source": [
    "%matplotlib notebook"
   ]
  },
  {
   "cell_type": "markdown",
   "id": "2566f174",
   "metadata": {},
   "source": [
    "# Rainsmore Workshop - Day 1\n",
    "\n",
    "\n",
    "## Dataset #1 description\n",
    "\n",
    "This dataset comprises transmit and receive signal levels of radio links and rainfall measurements in locations close to the links' ones. It is of interest to analyze the correlation between radio signal levels and rainfall volumes in order to use the former ones to predict the latter ones. The avalaible dataset is provided as a comma separated value (csv) file with different fiels which short description is provided below.\n",
    "\n",
    "### Dataset field description\n",
    "\n",
    "0.   **times**: Time stamp of the measurement.\n",
    "1.   **sens**: Link identifier (290 A-B or 523 A-B for the current data).\n",
    "2.   **TSL_mean**: Mean Transmitted Signal Level (TSL) in dBm.\n",
    "3.   **RSL_mean**: Mean Received Signal Level in dBm.\n",
    "4.   **Rgage**: The measurement of the rainfall for the nearest rain gauge in mm.\n",
    "5.   **freq**: Frequency of operation of the link in GHz.\n",
    "6.   **length**: Radio link length (distance from A to B) in km.\n",
    "7.   **cfakr**: estimated coeffient $a$ of the theoretical relationship between specifit attenuation $k$ (dB/km) and rain rate $R$ in mm/h, given by $k=aR^b$.\n",
    "8.   **cfbkr**: estimated coeffient $b$ of the theoretical relationship between specifit attenuation $k$ (dB/km) and rain rate $R$ in mm/h, given by $k=aR^b$.\n",
    "9.   **link**: Link description.\n",
    "10.  **gage**: Rain gauge identifier (neareast rain gauge).\n",
    "11.  **dist**: Distance between the middle of the radio link and the nearest rain gauge.\n",
    "12.  **code**: Link code (290 or 523 for the current data)\n",
    "13.  **company**: Name of the company operating the radio link."
   ]
  },
  {
   "cell_type": "markdown",
   "id": "f6022f4b",
   "metadata": {},
   "source": [
    "## Loading and preprocessing the dataset\n",
    "\n",
    "In order to treat the data, we first load the data set and get a few information about the data contained therein."
   ]
  },
  {
   "cell_type": "code",
   "execution_count": 2,
   "id": "669e8c5a",
   "metadata": {},
   "outputs": [
    {
     "name": "stdout",
     "output_type": "stream",
     "text": [
      "<class 'pandas.core.frame.DataFrame'>\n",
      "RangeIndex: 576 entries, 0 to 575\n",
      "Data columns (total 14 columns):\n",
      " #   Column    Non-Null Count  Dtype  \n",
      "---  ------    --------------  -----  \n",
      " 0   times     576 non-null    object \n",
      " 1   sens      576 non-null    object \n",
      " 2   TSL_mean  451 non-null    float64\n",
      " 3   RSL_mean  451 non-null    float64\n",
      " 4   Rgage     576 non-null    float64\n",
      " 5   freq      576 non-null    float64\n",
      " 6   length    576 non-null    float64\n",
      " 7   cfakr     576 non-null    float64\n",
      " 8   cfbkr     576 non-null    float64\n",
      " 9   link      576 non-null    object \n",
      " 10  gage      576 non-null    object \n",
      " 11  dist      576 non-null    float64\n",
      " 12  code      576 non-null    int64  \n",
      " 13  company   576 non-null    object \n",
      "dtypes: float64(8), int64(1), object(5)\n",
      "memory usage: 63.1+ KB\n"
     ]
    }
   ],
   "source": [
    "## Configure matplotlib figure mode\n",
    "%matplotlib inline\n",
    "\n",
    "# Import required packages\n",
    "import numpy as np              # Multidimensional (vector, matrices, ...) array processing\n",
    "import matplotlib.pyplot as plt # Figure plotting\n",
    "import pandas as pd             # Dataframe processing\n",
    "\n",
    "# Datasets are loaded as pandas dataframes from the (semicolon) comma separated value (csv) files\n",
    "# Load the first data set\n",
    "dataset1_link1 = pd.read_csv(\"Dataset_1_Link_AB_290_20210828_20210902.csv\", sep=\";\")\n",
    "# Show basic info about the dataset\n",
    "dataset1_link1.info()"
   ]
  },
  {
   "cell_type": "code",
   "execution_count": 3,
   "id": "7edfb581",
   "metadata": {},
   "outputs": [
    {
     "name": "stdout",
     "output_type": "stream",
     "text": [
      "<class 'pandas.core.frame.DataFrame'>\n",
      "RangeIndex: 192 entries, 0 to 191\n",
      "Data columns (total 14 columns):\n",
      " #   Column    Non-Null Count  Dtype  \n",
      "---  ------    --------------  -----  \n",
      " 0   times     192 non-null    object \n",
      " 1   sens      192 non-null    object \n",
      " 2   TSL_mean  162 non-null    float64\n",
      " 3   RSL_mean  162 non-null    float64\n",
      " 4   Rgage     192 non-null    float64\n",
      " 5   freq      192 non-null    int64  \n",
      " 6   length    192 non-null    float64\n",
      " 7   cfakr     192 non-null    float64\n",
      " 8   cfbkr     192 non-null    float64\n",
      " 9   link      192 non-null    object \n",
      " 10  gage      192 non-null    object \n",
      " 11  dist      192 non-null    float64\n",
      " 12  code      192 non-null    int64  \n",
      " 13  company   192 non-null    object \n",
      "dtypes: float64(7), int64(2), object(5)\n",
      "memory usage: 21.1+ KB\n"
     ]
    }
   ],
   "source": [
    "# Load the second dataset\n",
    "dataset1_link2 = pd.read_csv(\"Dataset_1_Link_AB_523_20210521_20210522.csv\", sep=\";\")\n",
    "# Show basic info about the dataset\n",
    "dataset1_link2.info()"
   ]
  },
  {
   "cell_type": "code",
   "execution_count": 4,
   "id": "a1e21271",
   "metadata": {},
   "outputs": [
    {
     "data": {
      "text/html": [
       "<div>\n",
       "<style scoped>\n",
       "    .dataframe tbody tr th:only-of-type {\n",
       "        vertical-align: middle;\n",
       "    }\n",
       "\n",
       "    .dataframe tbody tr th {\n",
       "        vertical-align: top;\n",
       "    }\n",
       "\n",
       "    .dataframe thead th {\n",
       "        text-align: right;\n",
       "    }\n",
       "</style>\n",
       "<table border=\"1\" class=\"dataframe\">\n",
       "  <thead>\n",
       "    <tr style=\"text-align: right;\">\n",
       "      <th></th>\n",
       "      <th>times</th>\n",
       "      <th>sens</th>\n",
       "      <th>TSL_mean</th>\n",
       "      <th>RSL_mean</th>\n",
       "      <th>Rgage</th>\n",
       "      <th>freq</th>\n",
       "      <th>length</th>\n",
       "      <th>cfakr</th>\n",
       "      <th>cfbkr</th>\n",
       "      <th>link</th>\n",
       "      <th>gage</th>\n",
       "      <th>dist</th>\n",
       "      <th>code</th>\n",
       "      <th>company</th>\n",
       "    </tr>\n",
       "  </thead>\n",
       "  <tbody>\n",
       "    <tr>\n",
       "      <th>0</th>\n",
       "      <td>2021-08-28 00:10:00</td>\n",
       "      <td>290 A-B</td>\n",
       "      <td>5.0</td>\n",
       "      <td>-52.7</td>\n",
       "      <td>0.0</td>\n",
       "      <td>14.5</td>\n",
       "      <td>1.02</td>\n",
       "      <td>0.0473</td>\n",
       "      <td>1.1022</td>\n",
       "      <td>10G_MPR_NDOGBONG_3 - MPR_MISSOKE_UNIVERSITE_1</td>\n",
       "      <td>Meteo_IUT</td>\n",
       "      <td>0.193579</td>\n",
       "      <td>290</td>\n",
       "      <td>Orange</td>\n",
       "    </tr>\n",
       "    <tr>\n",
       "      <th>1</th>\n",
       "      <td>2021-08-28 00:25:00</td>\n",
       "      <td>290 A-B</td>\n",
       "      <td>5.0</td>\n",
       "      <td>-52.7</td>\n",
       "      <td>0.0</td>\n",
       "      <td>14.5</td>\n",
       "      <td>1.02</td>\n",
       "      <td>0.0473</td>\n",
       "      <td>1.1022</td>\n",
       "      <td>10G_MPR_NDOGBONG_3 - MPR_MISSOKE_UNIVERSITE_1</td>\n",
       "      <td>Meteo_IUT</td>\n",
       "      <td>0.193579</td>\n",
       "      <td>290</td>\n",
       "      <td>Orange</td>\n",
       "    </tr>\n",
       "    <tr>\n",
       "      <th>2</th>\n",
       "      <td>2021-08-28 00:40:00</td>\n",
       "      <td>290 A-B</td>\n",
       "      <td>5.0</td>\n",
       "      <td>-52.7</td>\n",
       "      <td>0.0</td>\n",
       "      <td>14.5</td>\n",
       "      <td>1.02</td>\n",
       "      <td>0.0473</td>\n",
       "      <td>1.1022</td>\n",
       "      <td>10G_MPR_NDOGBONG_3 - MPR_MISSOKE_UNIVERSITE_1</td>\n",
       "      <td>Meteo_IUT</td>\n",
       "      <td>0.193579</td>\n",
       "      <td>290</td>\n",
       "      <td>Orange</td>\n",
       "    </tr>\n",
       "    <tr>\n",
       "      <th>3</th>\n",
       "      <td>2021-08-28 00:55:00</td>\n",
       "      <td>290 A-B</td>\n",
       "      <td>5.0</td>\n",
       "      <td>-52.8</td>\n",
       "      <td>0.0</td>\n",
       "      <td>14.5</td>\n",
       "      <td>1.02</td>\n",
       "      <td>0.0473</td>\n",
       "      <td>1.1022</td>\n",
       "      <td>10G_MPR_NDOGBONG_3 - MPR_MISSOKE_UNIVERSITE_1</td>\n",
       "      <td>Meteo_IUT</td>\n",
       "      <td>0.193579</td>\n",
       "      <td>290</td>\n",
       "      <td>Orange</td>\n",
       "    </tr>\n",
       "    <tr>\n",
       "      <th>4</th>\n",
       "      <td>2021-08-28 01:10:00</td>\n",
       "      <td>290 A-B</td>\n",
       "      <td>5.0</td>\n",
       "      <td>-52.9</td>\n",
       "      <td>0.0</td>\n",
       "      <td>14.5</td>\n",
       "      <td>1.02</td>\n",
       "      <td>0.0473</td>\n",
       "      <td>1.1022</td>\n",
       "      <td>10G_MPR_NDOGBONG_3 - MPR_MISSOKE_UNIVERSITE_1</td>\n",
       "      <td>Meteo_IUT</td>\n",
       "      <td>0.193579</td>\n",
       "      <td>290</td>\n",
       "      <td>Orange</td>\n",
       "    </tr>\n",
       "  </tbody>\n",
       "</table>\n",
       "</div>"
      ],
      "text/plain": [
       "                 times     sens  TSL_mean  RSL_mean  Rgage  freq  length  \\\n",
       "0  2021-08-28 00:10:00  290 A-B       5.0     -52.7    0.0  14.5    1.02   \n",
       "1  2021-08-28 00:25:00  290 A-B       5.0     -52.7    0.0  14.5    1.02   \n",
       "2  2021-08-28 00:40:00  290 A-B       5.0     -52.7    0.0  14.5    1.02   \n",
       "3  2021-08-28 00:55:00  290 A-B       5.0     -52.8    0.0  14.5    1.02   \n",
       "4  2021-08-28 01:10:00  290 A-B       5.0     -52.9    0.0  14.5    1.02   \n",
       "\n",
       "    cfakr   cfbkr                                           link       gage  \\\n",
       "0  0.0473  1.1022  10G_MPR_NDOGBONG_3 - MPR_MISSOKE_UNIVERSITE_1  Meteo_IUT   \n",
       "1  0.0473  1.1022  10G_MPR_NDOGBONG_3 - MPR_MISSOKE_UNIVERSITE_1  Meteo_IUT   \n",
       "2  0.0473  1.1022  10G_MPR_NDOGBONG_3 - MPR_MISSOKE_UNIVERSITE_1  Meteo_IUT   \n",
       "3  0.0473  1.1022  10G_MPR_NDOGBONG_3 - MPR_MISSOKE_UNIVERSITE_1  Meteo_IUT   \n",
       "4  0.0473  1.1022  10G_MPR_NDOGBONG_3 - MPR_MISSOKE_UNIVERSITE_1  Meteo_IUT   \n",
       "\n",
       "       dist  code company  \n",
       "0  0.193579   290  Orange  \n",
       "1  0.193579   290  Orange  \n",
       "2  0.193579   290  Orange  \n",
       "3  0.193579   290  Orange  \n",
       "4  0.193579   290  Orange  "
      ]
     },
     "execution_count": 4,
     "metadata": {},
     "output_type": "execute_result"
    }
   ],
   "source": [
    "# Show the first lines of the dataset\n",
    "dataset1_link1.head()"
   ]
  },
  {
   "cell_type": "code",
   "execution_count": 5,
   "id": "6a77fd28",
   "metadata": {},
   "outputs": [
    {
     "data": {
      "text/html": [
       "<div>\n",
       "<style scoped>\n",
       "    .dataframe tbody tr th:only-of-type {\n",
       "        vertical-align: middle;\n",
       "    }\n",
       "\n",
       "    .dataframe tbody tr th {\n",
       "        vertical-align: top;\n",
       "    }\n",
       "\n",
       "    .dataframe thead th {\n",
       "        text-align: right;\n",
       "    }\n",
       "</style>\n",
       "<table border=\"1\" class=\"dataframe\">\n",
       "  <thead>\n",
       "    <tr style=\"text-align: right;\">\n",
       "      <th></th>\n",
       "      <th>times</th>\n",
       "      <th>sens</th>\n",
       "      <th>TSL_mean</th>\n",
       "      <th>RSL_mean</th>\n",
       "      <th>Rgage</th>\n",
       "      <th>freq</th>\n",
       "      <th>length</th>\n",
       "      <th>cfakr</th>\n",
       "      <th>cfbkr</th>\n",
       "      <th>link</th>\n",
       "      <th>gage</th>\n",
       "      <th>dist</th>\n",
       "      <th>code</th>\n",
       "      <th>company</th>\n",
       "    </tr>\n",
       "  </thead>\n",
       "  <tbody>\n",
       "    <tr>\n",
       "      <th>0</th>\n",
       "      <td>2021-05-21 00:10:00</td>\n",
       "      <td>523 A-B</td>\n",
       "      <td>8.0</td>\n",
       "      <td>-37.9</td>\n",
       "      <td>0.0</td>\n",
       "      <td>18</td>\n",
       "      <td>0.41</td>\n",
       "      <td>0.0781</td>\n",
       "      <td>1.0654</td>\n",
       "      <td>10G_MPR_NDOGBONG_2 - MPR_NDOGBONG-SEVEN</td>\n",
       "      <td>Meteo_IUT</td>\n",
       "      <td>0.511151</td>\n",
       "      <td>523</td>\n",
       "      <td>Orange</td>\n",
       "    </tr>\n",
       "    <tr>\n",
       "      <th>1</th>\n",
       "      <td>2021-05-21 00:25:00</td>\n",
       "      <td>523 A-B</td>\n",
       "      <td>8.0</td>\n",
       "      <td>-37.9</td>\n",
       "      <td>0.0</td>\n",
       "      <td>18</td>\n",
       "      <td>0.41</td>\n",
       "      <td>0.0781</td>\n",
       "      <td>1.0654</td>\n",
       "      <td>10G_MPR_NDOGBONG_2 - MPR_NDOGBONG-SEVEN</td>\n",
       "      <td>Meteo_IUT</td>\n",
       "      <td>0.511151</td>\n",
       "      <td>523</td>\n",
       "      <td>Orange</td>\n",
       "    </tr>\n",
       "    <tr>\n",
       "      <th>2</th>\n",
       "      <td>2021-05-21 00:40:00</td>\n",
       "      <td>523 A-B</td>\n",
       "      <td>8.0</td>\n",
       "      <td>-37.9</td>\n",
       "      <td>0.0</td>\n",
       "      <td>18</td>\n",
       "      <td>0.41</td>\n",
       "      <td>0.0781</td>\n",
       "      <td>1.0654</td>\n",
       "      <td>10G_MPR_NDOGBONG_2 - MPR_NDOGBONG-SEVEN</td>\n",
       "      <td>Meteo_IUT</td>\n",
       "      <td>0.511151</td>\n",
       "      <td>523</td>\n",
       "      <td>Orange</td>\n",
       "    </tr>\n",
       "    <tr>\n",
       "      <th>3</th>\n",
       "      <td>2021-05-21 00:55:00</td>\n",
       "      <td>523 A-B</td>\n",
       "      <td>8.0</td>\n",
       "      <td>-37.9</td>\n",
       "      <td>0.0</td>\n",
       "      <td>18</td>\n",
       "      <td>0.41</td>\n",
       "      <td>0.0781</td>\n",
       "      <td>1.0654</td>\n",
       "      <td>10G_MPR_NDOGBONG_2 - MPR_NDOGBONG-SEVEN</td>\n",
       "      <td>Meteo_IUT</td>\n",
       "      <td>0.511151</td>\n",
       "      <td>523</td>\n",
       "      <td>Orange</td>\n",
       "    </tr>\n",
       "    <tr>\n",
       "      <th>4</th>\n",
       "      <td>2021-05-21 01:10:00</td>\n",
       "      <td>523 A-B</td>\n",
       "      <td>8.0</td>\n",
       "      <td>-37.9</td>\n",
       "      <td>0.0</td>\n",
       "      <td>18</td>\n",
       "      <td>0.41</td>\n",
       "      <td>0.0781</td>\n",
       "      <td>1.0654</td>\n",
       "      <td>10G_MPR_NDOGBONG_2 - MPR_NDOGBONG-SEVEN</td>\n",
       "      <td>Meteo_IUT</td>\n",
       "      <td>0.511151</td>\n",
       "      <td>523</td>\n",
       "      <td>Orange</td>\n",
       "    </tr>\n",
       "  </tbody>\n",
       "</table>\n",
       "</div>"
      ],
      "text/plain": [
       "                 times     sens  TSL_mean  RSL_mean  Rgage  freq  length  \\\n",
       "0  2021-05-21 00:10:00  523 A-B       8.0     -37.9    0.0    18    0.41   \n",
       "1  2021-05-21 00:25:00  523 A-B       8.0     -37.9    0.0    18    0.41   \n",
       "2  2021-05-21 00:40:00  523 A-B       8.0     -37.9    0.0    18    0.41   \n",
       "3  2021-05-21 00:55:00  523 A-B       8.0     -37.9    0.0    18    0.41   \n",
       "4  2021-05-21 01:10:00  523 A-B       8.0     -37.9    0.0    18    0.41   \n",
       "\n",
       "    cfakr   cfbkr                                     link       gage  \\\n",
       "0  0.0781  1.0654  10G_MPR_NDOGBONG_2 - MPR_NDOGBONG-SEVEN  Meteo_IUT   \n",
       "1  0.0781  1.0654  10G_MPR_NDOGBONG_2 - MPR_NDOGBONG-SEVEN  Meteo_IUT   \n",
       "2  0.0781  1.0654  10G_MPR_NDOGBONG_2 - MPR_NDOGBONG-SEVEN  Meteo_IUT   \n",
       "3  0.0781  1.0654  10G_MPR_NDOGBONG_2 - MPR_NDOGBONG-SEVEN  Meteo_IUT   \n",
       "4  0.0781  1.0654  10G_MPR_NDOGBONG_2 - MPR_NDOGBONG-SEVEN  Meteo_IUT   \n",
       "\n",
       "       dist  code company  \n",
       "0  0.511151   523  Orange  \n",
       "1  0.511151   523  Orange  \n",
       "2  0.511151   523  Orange  \n",
       "3  0.511151   523  Orange  \n",
       "4  0.511151   523  Orange  "
      ]
     },
     "execution_count": 5,
     "metadata": {},
     "output_type": "execute_result"
    }
   ],
   "source": [
    "# Show the first lines of the dataset\n",
    "dataset1_link2.head()"
   ]
  },
  {
   "cell_type": "markdown",
   "id": "55363630",
   "metadata": {},
   "source": [
    "In order to preserve the original data, we will make a work copy of the dataset and remove therefrom data that will not be used in the estimation or that is constant and can be recovered a single time whenever required. Considering the relevant rainfall and radio link data, we can see how the look like."
   ]
  },
  {
   "cell_type": "code",
   "execution_count": 6,
   "id": "56e1be5a",
   "metadata": {},
   "outputs": [
    {
     "data": {
      "text/plain": [
       "Text(0.5, 0, 'Time instant')"
      ]
     },
     "execution_count": 6,
     "metadata": {},
     "output_type": "execute_result"
    },
    {
     "data": {
      "image/png": "[encoded data removed]",
      "text/plain": [
       "<Figure size 432x288 with 2 Axes>"
      ]
     },
     "metadata": {
      "needs_background": "light"
     },
     "output_type": "display_data"
    }
   ],
   "source": [
    "# Work copy of the dataset for link 1\n",
    "df1 = dataset1_link1.copy()\n",
    "# Save relevant constant data as scalar variables\n",
    "Freq = dataset1_link2['freq'][0]\n",
    "Len = dataset1_link2['length'][0]\n",
    "coeffA = dataset1_link2['cfakr'][0]\n",
    "coeffB = dataset1_link2['cfbkr'][0]\n",
    "Dist = dataset1_link2['dist'][0]\n",
    "# Drop the columns that are not relevant for the subsequent calculations\n",
    "fields = ['sens', 'freq', 'length', 'cfakr', 'cfbkr', 'link', 'gage', 'dist', 'code', 'company']\n",
    "df1.drop(fields, axis=1, inplace=True)\n",
    "\n",
    "# Create a figure with two subplots\n",
    "fig, axs = plt.subplots(2)\n",
    "\n",
    "# Plot mean RSL for each time stamp\n",
    "axs[0].plot(df1['RSL_mean'])\n",
    "axs[0].set_ylabel('Mean RSL (in dBm)')\n",
    "\n",
    "# Plot rainfall gage measurement for each time stamp\n",
    "axs[1].plot(df1['Rgage'])\n",
    "axs[1].set_ylabel('Rainfall (in mm)')\n",
    "\n",
    "# Set common x-axis label\n",
    "axs[1].set_xlabel('Time instant')"
   ]
  },
  {
   "cell_type": "markdown",
   "id": "f4c4e568",
   "metadata": {},
   "source": [
    "As we can see, for this dataset there are a few missing values for mean RSL, which one can attribute to link measurement failures. In order to obtain and estimate of the parameters for the provided data, we will filter out the rows with missing data which rows are shown below."
   ]
  },
  {
   "cell_type": "code",
   "execution_count": 7,
   "id": "bfb7a7b0",
   "metadata": {},
   "outputs": [
    {
     "data": {
      "text/html": [
       "<div>\n",
       "<style scoped>\n",
       "    .dataframe tbody tr th:only-of-type {\n",
       "        vertical-align: middle;\n",
       "    }\n",
       "\n",
       "    .dataframe tbody tr th {\n",
       "        vertical-align: top;\n",
       "    }\n",
       "\n",
       "    .dataframe thead th {\n",
       "        text-align: right;\n",
       "    }\n",
       "</style>\n",
       "<table border=\"1\" class=\"dataframe\">\n",
       "  <thead>\n",
       "    <tr style=\"text-align: right;\">\n",
       "      <th></th>\n",
       "      <th>times</th>\n",
       "      <th>TSL_mean</th>\n",
       "      <th>RSL_mean</th>\n",
       "      <th>Rgage</th>\n",
       "    </tr>\n",
       "  </thead>\n",
       "  <tbody>\n",
       "    <tr>\n",
       "      <th>48</th>\n",
       "      <td>2021-08-28 12:10:00</td>\n",
       "      <td>NaN</td>\n",
       "      <td>NaN</td>\n",
       "      <td>0.0</td>\n",
       "    </tr>\n",
       "    <tr>\n",
       "      <th>59</th>\n",
       "      <td>2021-08-28 14:55:00</td>\n",
       "      <td>NaN</td>\n",
       "      <td>NaN</td>\n",
       "      <td>0.0</td>\n",
       "    </tr>\n",
       "    <tr>\n",
       "      <th>66</th>\n",
       "      <td>2021-08-28 16:40:00</td>\n",
       "      <td>NaN</td>\n",
       "      <td>NaN</td>\n",
       "      <td>0.0</td>\n",
       "    </tr>\n",
       "    <tr>\n",
       "      <th>71</th>\n",
       "      <td>2021-08-28 17:55:00</td>\n",
       "      <td>NaN</td>\n",
       "      <td>NaN</td>\n",
       "      <td>0.0</td>\n",
       "    </tr>\n",
       "    <tr>\n",
       "      <th>72</th>\n",
       "      <td>2021-08-28 18:10:00</td>\n",
       "      <td>NaN</td>\n",
       "      <td>NaN</td>\n",
       "      <td>0.0</td>\n",
       "    </tr>\n",
       "    <tr>\n",
       "      <th>...</th>\n",
       "      <td>...</td>\n",
       "      <td>...</td>\n",
       "      <td>...</td>\n",
       "      <td>...</td>\n",
       "    </tr>\n",
       "    <tr>\n",
       "      <th>557</th>\n",
       "      <td>2021-09-02 19:25:00</td>\n",
       "      <td>NaN</td>\n",
       "      <td>NaN</td>\n",
       "      <td>28.0</td>\n",
       "    </tr>\n",
       "    <tr>\n",
       "      <th>560</th>\n",
       "      <td>2021-09-02 20:10:00</td>\n",
       "      <td>NaN</td>\n",
       "      <td>NaN</td>\n",
       "      <td>12.0</td>\n",
       "    </tr>\n",
       "    <tr>\n",
       "      <th>561</th>\n",
       "      <td>2021-09-02 20:25:00</td>\n",
       "      <td>NaN</td>\n",
       "      <td>NaN</td>\n",
       "      <td>7.2</td>\n",
       "    </tr>\n",
       "    <tr>\n",
       "      <th>562</th>\n",
       "      <td>2021-09-02 20:40:00</td>\n",
       "      <td>NaN</td>\n",
       "      <td>NaN</td>\n",
       "      <td>4.0</td>\n",
       "    </tr>\n",
       "    <tr>\n",
       "      <th>563</th>\n",
       "      <td>2021-09-02 20:55:00</td>\n",
       "      <td>NaN</td>\n",
       "      <td>NaN</td>\n",
       "      <td>7.2</td>\n",
       "    </tr>\n",
       "  </tbody>\n",
       "</table>\n",
       "<p>125 rows × 4 columns</p>\n",
       "</div>"
      ],
      "text/plain": [
       "                   times  TSL_mean  RSL_mean  Rgage\n",
       "48   2021-08-28 12:10:00       NaN       NaN    0.0\n",
       "59   2021-08-28 14:55:00       NaN       NaN    0.0\n",
       "66   2021-08-28 16:40:00       NaN       NaN    0.0\n",
       "71   2021-08-28 17:55:00       NaN       NaN    0.0\n",
       "72   2021-08-28 18:10:00       NaN       NaN    0.0\n",
       "..                   ...       ...       ...    ...\n",
       "557  2021-09-02 19:25:00       NaN       NaN   28.0\n",
       "560  2021-09-02 20:10:00       NaN       NaN   12.0\n",
       "561  2021-09-02 20:25:00       NaN       NaN    7.2\n",
       "562  2021-09-02 20:40:00       NaN       NaN    4.0\n",
       "563  2021-09-02 20:55:00       NaN       NaN    7.2\n",
       "\n",
       "[125 rows x 4 columns]"
      ]
     },
     "execution_count": 7,
     "metadata": {},
     "output_type": "execute_result"
    }
   ],
   "source": [
    "df1[pd.isna(df1['RSL_mean']) | pd.isna(df1['Rgage'])]"
   ]
  },
  {
   "cell_type": "markdown",
   "id": "d4cd6b24",
   "metadata": {},
   "source": [
    "Now we drop the rows with the missing data and can replot the filtered data as follows."
   ]
  },
  {
   "cell_type": "code",
   "execution_count": 8,
   "id": "21805733",
   "metadata": {},
   "outputs": [
    {
     "data": {
      "text/plain": [
       "Text(0.5, 0, 'Time instant')"
      ]
     },
     "execution_count": 8,
     "metadata": {},
     "output_type": "execute_result"
    },
    {
     "data": {
      "image/png": "[encoded data removed]",
      "text/plain": [
       "<Figure size 432x288 with 2 Axes>"
      ]
     },
     "metadata": {
      "needs_background": "light"
     },
     "output_type": "display_data"
    }
   ],
   "source": [
    "# Drop rows with missing data\n",
    "df1.drop(df1[pd.isna(df1['RSL_mean']) | pd.isna(df1['Rgage'])].index, inplace=True)\n",
    "\n",
    "# Create a figure with two subplots\n",
    "fig, axs = plt.subplots(2)\n",
    "\n",
    "# Plot mean RSL for each time stamp\n",
    "axs[0].plot(df1['RSL_mean'])\n",
    "axs[0].set_ylabel('Mean RSL (in dBm)')\n",
    "\n",
    "# Plot rainfall gage measurement for each time stamp\n",
    "axs[1].plot(df1['Rgage'])\n",
    "axs[1].set_ylabel('Rainfall (in mm/h)')\n",
    "\n",
    "# Set common x-axis label\n",
    "axs[1].set_xlabel('Time instant')"
   ]
  },
  {
   "cell_type": "markdown",
   "id": "df84ef02",
   "metadata": {},
   "source": [
    "According to the model behind the used that, the attenuation $k$ normalized by the distance is related to the rain by $k = aR^b \\Rightarrow \\dfrac{\\ln(P_T - P_R)}{L} = \\ln(a) + b \\ln(R), k > 0, R > 0$, where $P_T$ is the transmit power and $P_R$ the received signal level and $L$ is the length of the radio link. Thus, we will create a new field for the attenuation and remove its baseline value. Moreover, the linearized model $\\ln(R) = \\dfrac{1}{b} \\ln(k) - \\ln(a)$ above can only be applied for positive rainfall measures. Thus, we also filter out zero values for this field"
   ]
  },
  {
   "cell_type": "code",
   "execution_count": 10,
   "id": "662240f5",
   "metadata": {},
   "outputs": [
    {
     "data": {
      "image/png": "[encoded data removed]",
      "text/plain": [
       "<Figure size 432x288 with 16 Axes>"
      ]
     },
     "metadata": {
      "needs_background": "light"
     },
     "output_type": "display_data"
    }
   ],
   "source": [
    "# Compute attenuation and normalize by link length\n",
    "df1['Att'] = df1['TSL_mean'] - df1['RSL_mean']\n",
    "df1['Att'] = df1['Att'] - np.min(df1['Att']) + 1 # Keep 1 dB as baseline\n",
    "df1['Att'] = df1['Att']/Len\n",
    "# Drop rows with Rgage equal to zero\n",
    "df1.drop(df1[df1['Rgage'] == 0].index, inplace=True)\n",
    "# Create logarithm fields\n",
    "df1['lnK'] = np.log(df1['Att'])\n",
    "df1['lnR'] = np.log(df1['Rgage'])\n",
    "# Show the correlation between Rgage and Att\n",
    "pd.plotting.scatter_matrix(df1[['Rgage', 'Att', 'lnK', 'lnR']]);"
   ]
  },
  {
   "cell_type": "markdown",
   "id": "a739572e",
   "metadata": {},
   "source": [
    "Based on the linearized data, we can apply linear regression to try to estimate $R$ as a function of $k$ and compare it agains the actual values, as well as compute the root mean square error between them."
   ]
  },
  {
   "cell_type": "markdown",
   "id": "7ddf7fb2",
   "metadata": {},
   "source": [
    "## Linear Regression\n",
    "$$ y = \\beta_{0} + \\beta_{1}X $$"
   ]
  },
  {
   "cell_type": "code",
   "execution_count": 11,
   "id": "08113636",
   "metadata": {},
   "outputs": [
    {
     "name": "stdout",
     "output_type": "stream",
     "text": [
      "B0 = 2.661043583152313\n",
      "B1 = -3.559263298795734\n",
      "\n",
      "RMSE: 5.590750546940543\n"
     ]
    },
    {
     "data": {
      "image/png": "[encoded data removed]",
      "text/plain": [
       "<Figure size 432x288 with 2 Axes>"
      ]
     },
     "metadata": {
      "needs_background": "light"
     },
     "output_type": "display_data"
    }
   ],
   "source": [
    "# Apply linear regression\n",
    "p = np.polyfit(df1['lnK'], df1['lnR'], deg=1)\n",
    "\n",
    "# Estimate R as function of k\n",
    "df1['R_est'] = np.polyval(p, df1['lnK'])\n",
    "df1['R_est'] = np.exp(df1['R_est'])\n",
    "\n",
    "# Create a figure with two subplots\n",
    "fig, axs = plt.subplots(2)\n",
    "\n",
    "# Plot mean RSL for each time stamp\n",
    "axs[0].plot(df1['R_est'])\n",
    "axs[0].set_ylabel('Estimated rainfall (in mm/h)')\n",
    "\n",
    "# Plot rainfall gage measurement for each time stamp\n",
    "axs[1].plot(df1['Rgage'])\n",
    "axs[1].set_ylabel('Measured rainfall (in mm/h)')\n",
    "\n",
    "# Set common x-axis label\n",
    "axs[1].set_xlabel('Time instant')\n",
    "\n",
    "# Looking the beta params\n",
    "print(f\"B0 = {p[0]}\\nB1 = {p[1]}\\n\")\n",
    "\n",
    "# Calculate RMSE\n",
    "RMSE = np.sqrt(np.mean((df1['Rgage']-df1['R_est'])**2))\n",
    "print(\"RMSE:\", RMSE)"
   ]
  },
  {
   "cell_type": "markdown",
   "id": "69d2692a",
   "metadata": {},
   "source": [
    "## Polynomial Regression\n",
    "\n",
    "$$ y = \\beta_{0} + \\beta_{1}X +  \\beta_{2}X^{2} + ... + \\beta_{n}X^{n} + \\epsilon  $$"
   ]
  },
  {
   "cell_type": "code",
   "execution_count": 12,
   "id": "99109524",
   "metadata": {},
   "outputs": [
    {
     "name": "stdout",
     "output_type": "stream",
     "text": [
      "B0 = 0.4901279886535645\n",
      "B1 = -4.926407614227884\n",
      "B2 = 17.470523115286134\n",
      "B3 = -23.278539098155672\n",
      "B4 = 10.059669970286745\n",
      "\n",
      "RMSE: 4.614184684853183\n"
     ]
    },
    {
     "data": {
      "image/png": "[encoded data removed]",
      "text/plain": [
       "<Figure size 432x288 with 2 Axes>"
      ]
     },
     "metadata": {
      "needs_background": "light"
     },
     "output_type": "display_data"
    }
   ],
   "source": [
    "# degree = 4\n",
    "p = np.polyfit(df1['lnK'], df1['lnR'], deg=4)\n",
    "\n",
    "# Estimate R as function of k\n",
    "df1['R_est'] = np.polyval(p, df1['lnK'])\n",
    "df1['R_est'] = np.exp(df1['R_est'])\n",
    "\n",
    "# Create a figure with two subplots\n",
    "fig, axs = plt.subplots(2)\n",
    "\n",
    "# Plot mean RSL for each time stamp\n",
    "axs[0].plot(df1['R_est'])\n",
    "axs[0].set_ylabel('Estimated rainfall (in mm/h)')\n",
    "\n",
    "# Plot rainfall gage measurement for each time stamp\n",
    "axs[1].plot(df1['Rgage'])\n",
    "axs[1].set_ylabel('Measured rainfall (in mm/h)')\n",
    "\n",
    "# Set common x-axis label\n",
    "axs[1].set_xlabel('Time instant')\n",
    "\n",
    "# Looking the beta params\n",
    "print(f\"B0 = {p[0]}\\nB1 = {p[1]}\\nB2 = {p[2]}\\nB3 = {p[3]}\\nB4 = {p[4]}\\n\")\n",
    "\n",
    "# Calculate RMSE\n",
    "RMSE = np.sqrt(np.mean((df1['Rgage']-df1['R_est'])**2))\n",
    "print(\"RMSE:\", RMSE)"
   ]
  },
  {
   "cell_type": "markdown",
   "id": "cccff1a4",
   "metadata": {},
   "source": [
    "Note that the RMSE in this case is smaller than the **Linear** model.\n",
    "Okay. Just try to modify the degree by yourself. \n",
    "\n",
    "### Remembering the RMSE equation\n",
    "\n",
    "$$ RMSE = \\sqrt{\\frac{1}{n}\\sum_{i=1}^{n} (y_{i} - \\hat{y})^{2}} $$\n",
    "\n",
    "### Other evaluation metrics for **regression** cases:\n",
    "\n",
    "- Mean Absolute Error\n",
    "\n",
    "$$ MAE = \\frac{1}{n} \\sum_{i=1}^{n} |y_{i} - \\hat{y}|$$\n",
    "\n",
    "- Mean Squared Error \n",
    "\n",
    "$$ MSE = \\frac{1}{n}\\sum_{i=1}^{n} (y_{i} - \\hat{y})^{2} $$\n",
    "\n",
    "note that: $ RMSE = \\sqrt{MSE} $\n",
    "\n",
    "- R2-Score:\n",
    "\n",
    "$$R^{2} = 1 - \\frac{\\sum{(y_{i} - \\hat{y})^{2}}}{\\sum{(y_{i} - \\bar{y})^{2}}}$$ \n",
    "\n",
    "\n",
    "Where,\n",
    "\n",
    "- $ y $: actual value of $y$ ;\n",
    "- $ \\hat{y} $: predicted value of $y$ ;\n",
    "- $\\bar{y} $: mean value of $y$.\n",
    "\n",
    "---\n",
    "\n",
    "### Some links to get databases:\n",
    "\n",
    "- https://portal.inmet.gov.br/\n",
    "\n",
    "- http://funceme.br/pcd/home?sensor=2&intervalo=1h&periodo=24h&uf=CE&instituicao=1&operador=AVG\n",
    "\n",
    "- https://power.larc.nasa.gov/data-access-viewer/\n"
   ]
  },
  {
   "cell_type": "code",
   "execution_count": null,
   "id": "90a9ed5c",
   "metadata": {},
   "outputs": [],
   "source": []
  }
 ],
 "metadata": {
  "kernelspec": {
   "display_name": "Python 3.8.10 ('project-EGVGCvRK-py3.8')",
   "language": "python",
   "name": "python3"
  },
  "language_info": {
   "codemirror_mode": {
    "name": "ipython",
    "version": 3
   },
   "file_extension": ".py",
   "mimetype": "text/x-python",
   "name": "python",
   "nbconvert_exporter": "python",
   "pygments_lexer": "ipython3",
   "version": "3.8.10"
  },
  "vscode": {
   "interpreter": {
    "hash": "75bc550fe71f52ab93b4f4769962ec034057d723da9b857d859599298509ad7c"
   }
  }
 },
 "nbformat": 4,
 "nbformat_minor": 5
}
