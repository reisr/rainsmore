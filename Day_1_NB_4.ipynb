{
 "cells": [
  {
   "cell_type": "markdown",
   "metadata": {},
   "source": [
    "# Rainsmore Workshop - Day 1\n",
    "\n",
    "\n",
    "## Dataset #1 description\n",
    "\n",
    "This dataset comprises transmit and receive signal levels of radio links and rainfall measurements in locations close to the links' ones. It is of interest to analyze the correlation between radio signal levels and rainfall volumes in order to use the former ones to predict the latter ones. The avalaible dataset is provided as a comma separated value (csv) file with different fiels which short description is provided below.\n",
    "\n",
    "### Dataset field description\n",
    "\n",
    "0.   **times**: Time stamp of the measurement.\n",
    "1.   **sens**: Link identifier (290 A-B or 523 A-B for the current data).\n",
    "2.   **TSL_mean**: Mean Transmitted Signal Level (TSL) in dBm.\n",
    "3.   **RSL_mean**: Mean Received Signal Level in dBm.\n",
    "4.   **Rgage**: The measurement of the rainfall for the nearest rain gauge in mm.\n",
    "5.   **freq**: Frequency of operation of the link in GHz.\n",
    "6.   **length**: Radio link length (distance from A to B) in km.\n",
    "7.   **cfakr**: estimated coeffient $a$ of the theoretical relationship between specifit attenuation $k$ (dB/km) and rain rate $R$ in mm/h, given by $k=aR^b$.\n",
    "8.   **cfbkr**: estimated coeffient $b$ of the theoretical relationship between specifit attenuation $k$ (dB/km) and rain rate $R$ in mm/h, given by $k=aR^b$.\n",
    "9.   **link**: Link description.\n",
    "10.  **gage**: Rain gauge identifier (neareast rain gauge).\n",
    "11.  **dist**: Distance between the middle of the radio link and the nearest rain gauge.\n",
    "12.  **code**: Link code (290 or 523 for the current data)\n",
    "13.  **company**: Name of the company operating the radio link."
   ]
  },
  {
   "cell_type": "markdown",
   "id": "f6022f4b",
   "metadata": {},
   "source": [
    "## Loading and preprocessing the dataset\n",
    "\n",
    "In order to treat the data, we first load the data set and get a few information about the data contained therein."
   ]
  },
  {
   "cell_type": "code",
   "execution_count": 39,
   "metadata": {},
   "outputs": [
    {
     "name": "stdout",
     "output_type": "stream",
     "text": [
      "<class 'pandas.core.frame.DataFrame'>\n",
      "RangeIndex: 576 entries, 0 to 575\n",
      "Data columns (total 14 columns):\n",
      " #   Column    Non-Null Count  Dtype  \n",
      "---  ------    --------------  -----  \n",
      " 0   times     576 non-null    object \n",
      " 1   sens      576 non-null    object \n",
      " 2   TSL_mean  451 non-null    float64\n",
      " 3   RSL_mean  451 non-null    float64\n",
      " 4   Rgage     576 non-null    float64\n",
      " 5   freq      576 non-null    float64\n",
      " 6   length    576 non-null    float64\n",
      " 7   cfakr     576 non-null    float64\n",
      " 8   cfbkr     576 non-null    float64\n",
      " 9   link      576 non-null    object \n",
      " 10  gage      576 non-null    object \n",
      " 11  dist      576 non-null    float64\n",
      " 12  code      576 non-null    int64  \n",
      " 13  company   576 non-null    object \n",
      "dtypes: float64(8), int64(1), object(5)\n",
      "memory usage: 63.1+ KB\n"
     ]
    }
   ],
   "source": [
    "## Configure matplotlib figure mode\n",
    "%matplotlib notebook\n",
    "%matplotlib inline\n",
    "# Import required packages\n",
    "import numpy as np              # Multidimensional (vector, matrices, ...) array processing\n",
    "import matplotlib.pyplot as plt # Figure plotting\n",
    "import pandas as pd             # Dataframe processing\n",
    "\n",
    "# Datasets are loaded as pandas dataframes from the (semicolon) comma separated value (csv) files\n",
    "# Load the first data set\n",
    "dataset1_link1 = pd.read_csv(\"Dataset_1_Link_AB_290_20210828_20210902.csv\", sep=\";\")\n",
    "# Show basic info about the dataset\n",
    "dataset1_link1.info()"
   ]
  },
  {
   "cell_type": "code",
   "execution_count": 40,
   "metadata": {},
   "outputs": [
    {
     "name": "stdout",
     "output_type": "stream",
     "text": [
      "<class 'pandas.core.frame.DataFrame'>\n",
      "RangeIndex: 192 entries, 0 to 191\n",
      "Data columns (total 14 columns):\n",
      " #   Column    Non-Null Count  Dtype  \n",
      "---  ------    --------------  -----  \n",
      " 0   times     192 non-null    object \n",
      " 1   sens      192 non-null    object \n",
      " 2   TSL_mean  162 non-null    float64\n",
      " 3   RSL_mean  162 non-null    float64\n",
      " 4   Rgage     192 non-null    float64\n",
      " 5   freq      192 non-null    int64  \n",
      " 6   length    192 non-null    float64\n",
      " 7   cfakr     192 non-null    float64\n",
      " 8   cfbkr     192 non-null    float64\n",
      " 9   link      192 non-null    object \n",
      " 10  gage      192 non-null    object \n",
      " 11  dist      192 non-null    float64\n",
      " 12  code      192 non-null    int64  \n",
      " 13  company   192 non-null    object \n",
      "dtypes: float64(7), int64(2), object(5)\n",
      "memory usage: 21.1+ KB\n"
     ]
    }
   ],
   "source": [
    "# Load the second dataset\n",
    "dataset1_link2 = pd.read_csv(\"Dataset_1_Link_AB_523_20210521_20210522.csv\", sep=\";\")\n",
    "# Show basic info about the dataset\n",
    "dataset1_link2.info()"
   ]
  },
  {
   "cell_type": "code",
   "execution_count": 41,
   "metadata": {},
   "outputs": [
    {
     "data": {
      "text/html": [
       "<div>\n",
       "<style scoped>\n",
       "    .dataframe tbody tr th:only-of-type {\n",
       "        vertical-align: middle;\n",
       "    }\n",
       "\n",
       "    .dataframe tbody tr th {\n",
       "        vertical-align: top;\n",
       "    }\n",
       "\n",
       "    .dataframe thead th {\n",
       "        text-align: right;\n",
       "    }\n",
       "</style>\n",
       "<table border=\"1\" class=\"dataframe\">\n",
       "  <thead>\n",
       "    <tr style=\"text-align: right;\">\n",
       "      <th></th>\n",
       "      <th>times</th>\n",
       "      <th>sens</th>\n",
       "      <th>TSL_mean</th>\n",
       "      <th>RSL_mean</th>\n",
       "      <th>Rgage</th>\n",
       "      <th>freq</th>\n",
       "      <th>length</th>\n",
       "      <th>cfakr</th>\n",
       "      <th>cfbkr</th>\n",
       "      <th>link</th>\n",
       "      <th>gage</th>\n",
       "      <th>dist</th>\n",
       "      <th>code</th>\n",
       "      <th>company</th>\n",
       "    </tr>\n",
       "  </thead>\n",
       "  <tbody>\n",
       "    <tr>\n",
       "      <th>0</th>\n",
       "      <td>2021-08-28 00:10:00</td>\n",
       "      <td>290 A-B</td>\n",
       "      <td>5.0</td>\n",
       "      <td>-52.7</td>\n",
       "      <td>0.0</td>\n",
       "      <td>14.5</td>\n",
       "      <td>1.02</td>\n",
       "      <td>0.0473</td>\n",
       "      <td>1.1022</td>\n",
       "      <td>10G_MPR_NDOGBONG_3 - MPR_MISSOKE_UNIVERSITE_1</td>\n",
       "      <td>Meteo_IUT</td>\n",
       "      <td>0.193579</td>\n",
       "      <td>290</td>\n",
       "      <td>Orange</td>\n",
       "    </tr>\n",
       "    <tr>\n",
       "      <th>1</th>\n",
       "      <td>2021-08-28 00:25:00</td>\n",
       "      <td>290 A-B</td>\n",
       "      <td>5.0</td>\n",
       "      <td>-52.7</td>\n",
       "      <td>0.0</td>\n",
       "      <td>14.5</td>\n",
       "      <td>1.02</td>\n",
       "      <td>0.0473</td>\n",
       "      <td>1.1022</td>\n",
       "      <td>10G_MPR_NDOGBONG_3 - MPR_MISSOKE_UNIVERSITE_1</td>\n",
       "      <td>Meteo_IUT</td>\n",
       "      <td>0.193579</td>\n",
       "      <td>290</td>\n",
       "      <td>Orange</td>\n",
       "    </tr>\n",
       "    <tr>\n",
       "      <th>2</th>\n",
       "      <td>2021-08-28 00:40:00</td>\n",
       "      <td>290 A-B</td>\n",
       "      <td>5.0</td>\n",
       "      <td>-52.7</td>\n",
       "      <td>0.0</td>\n",
       "      <td>14.5</td>\n",
       "      <td>1.02</td>\n",
       "      <td>0.0473</td>\n",
       "      <td>1.1022</td>\n",
       "      <td>10G_MPR_NDOGBONG_3 - MPR_MISSOKE_UNIVERSITE_1</td>\n",
       "      <td>Meteo_IUT</td>\n",
       "      <td>0.193579</td>\n",
       "      <td>290</td>\n",
       "      <td>Orange</td>\n",
       "    </tr>\n",
       "    <tr>\n",
       "      <th>3</th>\n",
       "      <td>2021-08-28 00:55:00</td>\n",
       "      <td>290 A-B</td>\n",
       "      <td>5.0</td>\n",
       "      <td>-52.8</td>\n",
       "      <td>0.0</td>\n",
       "      <td>14.5</td>\n",
       "      <td>1.02</td>\n",
       "      <td>0.0473</td>\n",
       "      <td>1.1022</td>\n",
       "      <td>10G_MPR_NDOGBONG_3 - MPR_MISSOKE_UNIVERSITE_1</td>\n",
       "      <td>Meteo_IUT</td>\n",
       "      <td>0.193579</td>\n",
       "      <td>290</td>\n",
       "      <td>Orange</td>\n",
       "    </tr>\n",
       "    <tr>\n",
       "      <th>4</th>\n",
       "      <td>2021-08-28 01:10:00</td>\n",
       "      <td>290 A-B</td>\n",
       "      <td>5.0</td>\n",
       "      <td>-52.9</td>\n",
       "      <td>0.0</td>\n",
       "      <td>14.5</td>\n",
       "      <td>1.02</td>\n",
       "      <td>0.0473</td>\n",
       "      <td>1.1022</td>\n",
       "      <td>10G_MPR_NDOGBONG_3 - MPR_MISSOKE_UNIVERSITE_1</td>\n",
       "      <td>Meteo_IUT</td>\n",
       "      <td>0.193579</td>\n",
       "      <td>290</td>\n",
       "      <td>Orange</td>\n",
       "    </tr>\n",
       "  </tbody>\n",
       "</table>\n",
       "</div>"
      ],
      "text/plain": [
       "                 times     sens  TSL_mean  RSL_mean  Rgage  freq  length  \\\n",
       "0  2021-08-28 00:10:00  290 A-B       5.0     -52.7    0.0  14.5    1.02   \n",
       "1  2021-08-28 00:25:00  290 A-B       5.0     -52.7    0.0  14.5    1.02   \n",
       "2  2021-08-28 00:40:00  290 A-B       5.0     -52.7    0.0  14.5    1.02   \n",
       "3  2021-08-28 00:55:00  290 A-B       5.0     -52.8    0.0  14.5    1.02   \n",
       "4  2021-08-28 01:10:00  290 A-B       5.0     -52.9    0.0  14.5    1.02   \n",
       "\n",
       "    cfakr   cfbkr                                           link       gage  \\\n",
       "0  0.0473  1.1022  10G_MPR_NDOGBONG_3 - MPR_MISSOKE_UNIVERSITE_1  Meteo_IUT   \n",
       "1  0.0473  1.1022  10G_MPR_NDOGBONG_3 - MPR_MISSOKE_UNIVERSITE_1  Meteo_IUT   \n",
       "2  0.0473  1.1022  10G_MPR_NDOGBONG_3 - MPR_MISSOKE_UNIVERSITE_1  Meteo_IUT   \n",
       "3  0.0473  1.1022  10G_MPR_NDOGBONG_3 - MPR_MISSOKE_UNIVERSITE_1  Meteo_IUT   \n",
       "4  0.0473  1.1022  10G_MPR_NDOGBONG_3 - MPR_MISSOKE_UNIVERSITE_1  Meteo_IUT   \n",
       "\n",
       "       dist  code company  \n",
       "0  0.193579   290  Orange  \n",
       "1  0.193579   290  Orange  \n",
       "2  0.193579   290  Orange  \n",
       "3  0.193579   290  Orange  \n",
       "4  0.193579   290  Orange  "
      ]
     },
     "execution_count": 41,
     "metadata": {},
     "output_type": "execute_result"
    }
   ],
   "source": [
    "# Show the first lines of the dataset\n",
    "dataset1_link1.head()"
   ]
  },
  {
   "cell_type": "code",
   "execution_count": 42,
   "metadata": {},
   "outputs": [
    {
     "data": {
      "text/html": [
       "<div>\n",
       "<style scoped>\n",
       "    .dataframe tbody tr th:only-of-type {\n",
       "        vertical-align: middle;\n",
       "    }\n",
       "\n",
       "    .dataframe tbody tr th {\n",
       "        vertical-align: top;\n",
       "    }\n",
       "\n",
       "    .dataframe thead th {\n",
       "        text-align: right;\n",
       "    }\n",
       "</style>\n",
       "<table border=\"1\" class=\"dataframe\">\n",
       "  <thead>\n",
       "    <tr style=\"text-align: right;\">\n",
       "      <th></th>\n",
       "      <th>times</th>\n",
       "      <th>sens</th>\n",
       "      <th>TSL_mean</th>\n",
       "      <th>RSL_mean</th>\n",
       "      <th>Rgage</th>\n",
       "      <th>freq</th>\n",
       "      <th>length</th>\n",
       "      <th>cfakr</th>\n",
       "      <th>cfbkr</th>\n",
       "      <th>link</th>\n",
       "      <th>gage</th>\n",
       "      <th>dist</th>\n",
       "      <th>code</th>\n",
       "      <th>company</th>\n",
       "    </tr>\n",
       "  </thead>\n",
       "  <tbody>\n",
       "    <tr>\n",
       "      <th>0</th>\n",
       "      <td>2021-05-21 00:10:00</td>\n",
       "      <td>523 A-B</td>\n",
       "      <td>8.0</td>\n",
       "      <td>-37.9</td>\n",
       "      <td>0.0</td>\n",
       "      <td>18</td>\n",
       "      <td>0.41</td>\n",
       "      <td>0.0781</td>\n",
       "      <td>1.0654</td>\n",
       "      <td>10G_MPR_NDOGBONG_2 - MPR_NDOGBONG-SEVEN</td>\n",
       "      <td>Meteo_IUT</td>\n",
       "      <td>0.511151</td>\n",
       "      <td>523</td>\n",
       "      <td>Orange</td>\n",
       "    </tr>\n",
       "    <tr>\n",
       "      <th>1</th>\n",
       "      <td>2021-05-21 00:25:00</td>\n",
       "      <td>523 A-B</td>\n",
       "      <td>8.0</td>\n",
       "      <td>-37.9</td>\n",
       "      <td>0.0</td>\n",
       "      <td>18</td>\n",
       "      <td>0.41</td>\n",
       "      <td>0.0781</td>\n",
       "      <td>1.0654</td>\n",
       "      <td>10G_MPR_NDOGBONG_2 - MPR_NDOGBONG-SEVEN</td>\n",
       "      <td>Meteo_IUT</td>\n",
       "      <td>0.511151</td>\n",
       "      <td>523</td>\n",
       "      <td>Orange</td>\n",
       "    </tr>\n",
       "    <tr>\n",
       "      <th>2</th>\n",
       "      <td>2021-05-21 00:40:00</td>\n",
       "      <td>523 A-B</td>\n",
       "      <td>8.0</td>\n",
       "      <td>-37.9</td>\n",
       "      <td>0.0</td>\n",
       "      <td>18</td>\n",
       "      <td>0.41</td>\n",
       "      <td>0.0781</td>\n",
       "      <td>1.0654</td>\n",
       "      <td>10G_MPR_NDOGBONG_2 - MPR_NDOGBONG-SEVEN</td>\n",
       "      <td>Meteo_IUT</td>\n",
       "      <td>0.511151</td>\n",
       "      <td>523</td>\n",
       "      <td>Orange</td>\n",
       "    </tr>\n",
       "    <tr>\n",
       "      <th>3</th>\n",
       "      <td>2021-05-21 00:55:00</td>\n",
       "      <td>523 A-B</td>\n",
       "      <td>8.0</td>\n",
       "      <td>-37.9</td>\n",
       "      <td>0.0</td>\n",
       "      <td>18</td>\n",
       "      <td>0.41</td>\n",
       "      <td>0.0781</td>\n",
       "      <td>1.0654</td>\n",
       "      <td>10G_MPR_NDOGBONG_2 - MPR_NDOGBONG-SEVEN</td>\n",
       "      <td>Meteo_IUT</td>\n",
       "      <td>0.511151</td>\n",
       "      <td>523</td>\n",
       "      <td>Orange</td>\n",
       "    </tr>\n",
       "    <tr>\n",
       "      <th>4</th>\n",
       "      <td>2021-05-21 01:10:00</td>\n",
       "      <td>523 A-B</td>\n",
       "      <td>8.0</td>\n",
       "      <td>-37.9</td>\n",
       "      <td>0.0</td>\n",
       "      <td>18</td>\n",
       "      <td>0.41</td>\n",
       "      <td>0.0781</td>\n",
       "      <td>1.0654</td>\n",
       "      <td>10G_MPR_NDOGBONG_2 - MPR_NDOGBONG-SEVEN</td>\n",
       "      <td>Meteo_IUT</td>\n",
       "      <td>0.511151</td>\n",
       "      <td>523</td>\n",
       "      <td>Orange</td>\n",
       "    </tr>\n",
       "  </tbody>\n",
       "</table>\n",
       "</div>"
      ],
      "text/plain": [
       "                 times     sens  TSL_mean  RSL_mean  Rgage  freq  length  \\\n",
       "0  2021-05-21 00:10:00  523 A-B       8.0     -37.9    0.0    18    0.41   \n",
       "1  2021-05-21 00:25:00  523 A-B       8.0     -37.9    0.0    18    0.41   \n",
       "2  2021-05-21 00:40:00  523 A-B       8.0     -37.9    0.0    18    0.41   \n",
       "3  2021-05-21 00:55:00  523 A-B       8.0     -37.9    0.0    18    0.41   \n",
       "4  2021-05-21 01:10:00  523 A-B       8.0     -37.9    0.0    18    0.41   \n",
       "\n",
       "    cfakr   cfbkr                                     link       gage  \\\n",
       "0  0.0781  1.0654  10G_MPR_NDOGBONG_2 - MPR_NDOGBONG-SEVEN  Meteo_IUT   \n",
       "1  0.0781  1.0654  10G_MPR_NDOGBONG_2 - MPR_NDOGBONG-SEVEN  Meteo_IUT   \n",
       "2  0.0781  1.0654  10G_MPR_NDOGBONG_2 - MPR_NDOGBONG-SEVEN  Meteo_IUT   \n",
       "3  0.0781  1.0654  10G_MPR_NDOGBONG_2 - MPR_NDOGBONG-SEVEN  Meteo_IUT   \n",
       "4  0.0781  1.0654  10G_MPR_NDOGBONG_2 - MPR_NDOGBONG-SEVEN  Meteo_IUT   \n",
       "\n",
       "       dist  code company  \n",
       "0  0.511151   523  Orange  \n",
       "1  0.511151   523  Orange  \n",
       "2  0.511151   523  Orange  \n",
       "3  0.511151   523  Orange  \n",
       "4  0.511151   523  Orange  "
      ]
     },
     "execution_count": 42,
     "metadata": {},
     "output_type": "execute_result"
    }
   ],
   "source": [
    "# Show the first lines of the dataset\n",
    "dataset1_link2.head()"
   ]
  },
  {
   "cell_type": "code",
   "execution_count": 43,
   "metadata": {},
   "outputs": [
    {
     "data": {
      "text/plain": [
       "Text(0.5, 0, 'Time instant')"
      ]
     },
     "execution_count": 43,
     "metadata": {},
     "output_type": "execute_result"
    },
    {
     "data": {
      "image/png": "[encoded data removed]",
      "text/plain": [
       "<Figure size 432x288 with 2 Axes>"
      ]
     },
     "metadata": {
      "needs_background": "light"
     },
     "output_type": "display_data"
    }
   ],
   "source": [
    "# Work copy of the dataset for link 1\n",
    "df1 = dataset1_link1.copy()\n",
    "# Save relevant constant data as scalar variables\n",
    "Freq = dataset1_link2['freq'][0]\n",
    "Len = dataset1_link2['length'][0]\n",
    "coeffA = dataset1_link2['cfakr'][0]\n",
    "coeffB = dataset1_link2['cfbkr'][0]\n",
    "Dist = dataset1_link2['dist'][0]\n",
    "# Drop the columns that are not relevant for the subsequent calculations\n",
    "fields = ['times', 'sens', 'freq', 'length', 'cfakr', 'cfbkr', 'link', 'gage', 'dist', 'code', 'company']\n",
    "df1.drop(fields, axis=1, inplace=True)\n",
    "\n",
    "# Create a figure with two subplots\n",
    "fig, axs = plt.subplots(2)\n",
    "\n",
    "# Plot mean RSL for each time stamp\n",
    "axs[0].plot(df1['RSL_mean'])\n",
    "axs[0].set_ylabel('Mean RSL (in dBm)')\n",
    "\n",
    "# Plot rainfall gage measurement for each time stamp\n",
    "axs[1].plot(df1['Rgage'])\n",
    "axs[1].set_ylabel('Rainfall (in mm)')\n",
    "\n",
    "# Set common x-axis label\n",
    "axs[1].set_xlabel('Time instant')"
   ]
  },
  {
   "cell_type": "code",
   "execution_count": 44,
   "metadata": {},
   "outputs": [
    {
     "data": {
      "text/html": [
       "<div>\n",
       "<style scoped>\n",
       "    .dataframe tbody tr th:only-of-type {\n",
       "        vertical-align: middle;\n",
       "    }\n",
       "\n",
       "    .dataframe tbody tr th {\n",
       "        vertical-align: top;\n",
       "    }\n",
       "\n",
       "    .dataframe thead th {\n",
       "        text-align: right;\n",
       "    }\n",
       "</style>\n",
       "<table border=\"1\" class=\"dataframe\">\n",
       "  <thead>\n",
       "    <tr style=\"text-align: right;\">\n",
       "      <th></th>\n",
       "      <th>TSL_mean</th>\n",
       "      <th>RSL_mean</th>\n",
       "      <th>Rgage</th>\n",
       "    </tr>\n",
       "  </thead>\n",
       "  <tbody>\n",
       "    <tr>\n",
       "      <th>48</th>\n",
       "      <td>NaN</td>\n",
       "      <td>NaN</td>\n",
       "      <td>0.0</td>\n",
       "    </tr>\n",
       "    <tr>\n",
       "      <th>59</th>\n",
       "      <td>NaN</td>\n",
       "      <td>NaN</td>\n",
       "      <td>0.0</td>\n",
       "    </tr>\n",
       "    <tr>\n",
       "      <th>66</th>\n",
       "      <td>NaN</td>\n",
       "      <td>NaN</td>\n",
       "      <td>0.0</td>\n",
       "    </tr>\n",
       "    <tr>\n",
       "      <th>71</th>\n",
       "      <td>NaN</td>\n",
       "      <td>NaN</td>\n",
       "      <td>0.0</td>\n",
       "    </tr>\n",
       "    <tr>\n",
       "      <th>72</th>\n",
       "      <td>NaN</td>\n",
       "      <td>NaN</td>\n",
       "      <td>0.0</td>\n",
       "    </tr>\n",
       "    <tr>\n",
       "      <th>...</th>\n",
       "      <td>...</td>\n",
       "      <td>...</td>\n",
       "      <td>...</td>\n",
       "    </tr>\n",
       "    <tr>\n",
       "      <th>557</th>\n",
       "      <td>NaN</td>\n",
       "      <td>NaN</td>\n",
       "      <td>28.0</td>\n",
       "    </tr>\n",
       "    <tr>\n",
       "      <th>560</th>\n",
       "      <td>NaN</td>\n",
       "      <td>NaN</td>\n",
       "      <td>12.0</td>\n",
       "    </tr>\n",
       "    <tr>\n",
       "      <th>561</th>\n",
       "      <td>NaN</td>\n",
       "      <td>NaN</td>\n",
       "      <td>7.2</td>\n",
       "    </tr>\n",
       "    <tr>\n",
       "      <th>562</th>\n",
       "      <td>NaN</td>\n",
       "      <td>NaN</td>\n",
       "      <td>4.0</td>\n",
       "    </tr>\n",
       "    <tr>\n",
       "      <th>563</th>\n",
       "      <td>NaN</td>\n",
       "      <td>NaN</td>\n",
       "      <td>7.2</td>\n",
       "    </tr>\n",
       "  </tbody>\n",
       "</table>\n",
       "<p>125 rows × 3 columns</p>\n",
       "</div>"
      ],
      "text/plain": [
       "     TSL_mean  RSL_mean  Rgage\n",
       "48        NaN       NaN    0.0\n",
       "59        NaN       NaN    0.0\n",
       "66        NaN       NaN    0.0\n",
       "71        NaN       NaN    0.0\n",
       "72        NaN       NaN    0.0\n",
       "..        ...       ...    ...\n",
       "557       NaN       NaN   28.0\n",
       "560       NaN       NaN   12.0\n",
       "561       NaN       NaN    7.2\n",
       "562       NaN       NaN    4.0\n",
       "563       NaN       NaN    7.2\n",
       "\n",
       "[125 rows x 3 columns]"
      ]
     },
     "execution_count": 44,
     "metadata": {},
     "output_type": "execute_result"
    }
   ],
   "source": [
    "df1[pd.isna(df1['RSL_mean']) | pd.isna(df1['Rgage'])]"
   ]
  },
  {
   "cell_type": "code",
   "execution_count": 45,
   "metadata": {},
   "outputs": [
    {
     "data": {
      "text/plain": [
       "Text(0.5, 0, 'Time instant')"
      ]
     },
     "execution_count": 45,
     "metadata": {},
     "output_type": "execute_result"
    },
    {
     "data": {
      "image/png": "[encoded data removed]",
      "text/plain": [
       "<Figure size 432x288 with 2 Axes>"
      ]
     },
     "metadata": {
      "needs_background": "light"
     },
     "output_type": "display_data"
    }
   ],
   "source": [
    "# Drop rows with missing data\n",
    "df1.drop(df1[pd.isna(df1['RSL_mean']) | pd.isna(df1['Rgage'])].index, inplace=True)\n",
    "\n",
    "# Create a figure with two subplots\n",
    "fig, axs = plt.subplots(2)\n",
    "\n",
    "# Plot mean RSL for each time stamp\n",
    "axs[0].plot(df1['RSL_mean'])\n",
    "axs[0].set_ylabel('Mean RSL (in dBm)')\n",
    "\n",
    "# Plot rainfall gage measurement for each time stamp\n",
    "axs[1].plot(df1['Rgage'])\n",
    "axs[1].set_ylabel('Rainfall (in mm/h)')\n",
    "\n",
    "# Set common x-axis label\n",
    "axs[1].set_xlabel('Time instant')"
   ]
  },
  {
   "cell_type": "markdown",
   "metadata": {},
   "source": [
    "According to the model behind the used that, the attenuation $k$ normalized by the distance is related to the rain by $k = aR^b \\Rightarrow \\ln(P_T - P_R) = \\ln(a) + b \\ln(R), k > 0, R > 0$, where $P_T$ is the transmit power and $P_R$ the received signal level. Thus, we will create a new field for the attenuation and remove its baseline value. Moreover, the linearized model $\\ln(R) = \\dfrac{1}{b} \\ln(k) - \\ln(a)$ above can only be applied for positive rainfall measures. Thus, we also filter out zero values for this field"
   ]
  },
  {
   "cell_type": "code",
   "execution_count": 46,
   "metadata": {},
   "outputs": [
    {
     "data": {
      "image/png": "[encoded data removed]",
      "text/plain": [
       "<Figure size 432x288 with 16 Axes>"
      ]
     },
     "metadata": {
      "needs_background": "light"
     },
     "output_type": "display_data"
    }
   ],
   "source": [
    "# Compute attenuation and normalize by link length\n",
    "df1['Att'] = df1['TSL_mean'] - df1['RSL_mean']\n",
    "df1['Att'] = df1['Att'] - np.min(df1['Att']) + 1 # Keep 1 dB as baseline\n",
    "df1['Att'] = df1['Att']/Len\n",
    "# Drop rows with Rgage equal to zero\n",
    "df1.drop(df1[df1['Rgage'] == 0].index, inplace=True)\n",
    "# Create logarithm fields\n",
    "df1['lnK'] = np.log(df1['Att'])\n",
    "df1['lnR'] = np.log(df1['Rgage'])\n",
    "# Show the correlation between Rgage and Att\n",
    "pd.plotting.scatter_matrix(df1[['Rgage', 'Att', 'lnK', 'lnR']]);"
   ]
  },
  {
   "cell_type": "markdown",
   "metadata": {},
   "source": [
    "# Model Autoregressive Integrated Moving Average (ARIMA)\n",
    "\n",
    "- AR : Autoregressive. A model that uses the dependency relationship between an observation and a set of past observations.\n",
    "\n",
    "- I : Integreted. Using differences in observations to make a series stationary.\n",
    "\n",
    "- MA : Moving Average. A model that uses the dependence between an observation and the residual error of moving averages applied in previous observations.\n",
    "\n",
    "Each of these components are explicitly specified in the model through parameters. A standard notation is used as ARIMA (p, d, q), where parameters are replaced by integer values to indicate the specific ARIMA model being used.\n",
    "\n",
    "The parameters of the ARIMA model are defined as:\n",
    "\n",
    "- p: the number of past observations included in the model, also called \"order of lag\";\n",
    "\n",
    "- d: the number of differences taken, also called \"degree of differentiation\";\n",
    "\n",
    "- q: the size of the moving average window, also called \"moving average order\".\n",
    "\n",
    "**Obs.:**  The advantage of using the ARIMA model compared to the ARMA model is the possibility of working with non-stationary series."
   ]
  },
  {
   "cell_type": "code",
   "execution_count": 47,
   "metadata": {},
   "outputs": [
    {
     "name": "stderr",
     "output_type": "stream",
     "text": [
      "/home/raul-rx7/.cache/pypoetry/virtualenvs/project-EGVGCvRK-py3.8/lib/python3.8/site-packages/statsmodels/tsa/statespace/sarimax.py:966: UserWarning: Non-stationary starting autoregressive parameters found. Using zeros as starting parameters.\n",
      "  warn('Non-stationary starting autoregressive parameters'\n",
      "/home/raul-rx7/.cache/pypoetry/virtualenvs/project-EGVGCvRK-py3.8/lib/python3.8/site-packages/statsmodels/tsa/statespace/sarimax.py:978: UserWarning: Non-invertible starting MA parameters found. Using zeros as starting parameters.\n",
      "  warn('Non-invertible starting MA parameters found.'\n",
      "/home/raul-rx7/.cache/pypoetry/virtualenvs/project-EGVGCvRK-py3.8/lib/python3.8/site-packages/statsmodels/base/model.py:604: ConvergenceWarning: Maximum Likelihood optimization failed to converge. Check mle_retvals\n",
      "  warnings.warn(\"Maximum Likelihood optimization failed to \"\n"
     ]
    },
    {
     "name": "stdout",
     "output_type": "stream",
     "text": [
      "RMSE: 228.90728933622182\n"
     ]
    },
    {
     "name": "stderr",
     "output_type": "stream",
     "text": [
      "/home/raul-rx7/.cache/pypoetry/virtualenvs/project-EGVGCvRK-py3.8/lib/python3.8/site-packages/statsmodels/base/model.py:604: ConvergenceWarning: Maximum Likelihood optimization failed to converge. Check mle_retvals\n",
      "  warnings.warn(\"Maximum Likelihood optimization failed to \"\n"
     ]
    },
    {
     "data": {
      "image/png": "[encoded data removed]",
      "text/plain": [
       "<Figure size 432x288 with 2 Axes>"
      ]
     },
     "metadata": {
      "needs_background": "light"
     },
     "output_type": "display_data"
    }
   ],
   "source": [
    "from sklearn.model_selection import train_test_split\n",
    "from statsmodels.tsa.arima.model import ARIMA\n",
    "from sklearn.metrics import mean_squared_error\n",
    "\n",
    "# Select input data for linear regression\n",
    "x = df1.iloc[:, 4].values\n",
    "y = df1.iloc[:, 5].values\n",
    "\n",
    "# Split the input dataset into a trainning set and a testing set\n",
    "x_train, x_test, y_train, y_test = train_test_split(x, y, test_size=1.0/3.0, random_state=0)\n",
    "\n",
    "# Reeshape as required by LinearRegression\n",
    "x_test = x_test.reshape(-1, 1)\n",
    "x_train = x_train.reshape(-1, 1)\n",
    "\n",
    "# Apply the ARIMA\n",
    "arma_train_fit = ARIMA(y_train,order=(7, 0, 9)).fit()\n",
    "arma_test = ARIMA(y_test, order=(7, 0, 9)).fit(arma_train_fit.params)\n",
    "\n",
    "y_pred = arma_test.predict()\n",
    "\n",
    "# Create a figure with two subplots\n",
    "fig, axs = plt.subplots(2)\n",
    "\n",
    "# Plot mean RSL for each time stamp\n",
    "axs[0].plot(np.exp(y_pred))\n",
    "axs[0].set_ylabel('Estimated rainfall (in mm/h)')\n",
    "\n",
    "# Plot rainfall gage measurement for each time stamp\n",
    "axs[1].plot(np.exp(y_test))\n",
    "axs[1].set_ylabel('Measured rainfall (in mm/h)')\n",
    "\n",
    "# Set common x-axis label\n",
    "axs[1].set_xlabel('Time instant')\n",
    "\n",
    "# Calculate RMSE\n",
    "RMSE = mean_squared_error(np.exp(y_pred), np.exp(y_test))\n",
    "print(\"RMSE:\", RMSE)"
   ]
  },
  {
   "cell_type": "markdown",
   "metadata": {},
   "source": [
    "What a mess with this library."
   ]
  }
 ],
 "metadata": {
  "kernelspec": {
   "display_name": "Python 3.8.10 ('project-EGVGCvRK-py3.8')",
   "language": "python",
   "name": "python3"
  },
  "language_info": {
   "codemirror_mode": {
    "name": "ipython",
    "version": 3
   },
   "file_extension": ".py",
   "mimetype": "text/x-python",
   "name": "python",
   "nbconvert_exporter": "python",
   "pygments_lexer": "ipython3",
   "version": "3.8.10"
  },
  "orig_nbformat": 4,
  "vscode": {
   "interpreter": {
    "hash": "75bc550fe71f52ab93b4f4769962ec034057d723da9b857d859599298509ad7c"
   }
  }
 },
 "nbformat": 4,
 "nbformat_minor": 2
}
