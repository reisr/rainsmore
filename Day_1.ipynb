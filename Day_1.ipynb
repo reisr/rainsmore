{
 "cells": [
  {
   "cell_type": "markdown",
   "id": "4ac11088",
   "metadata": {},
   "source": [
    "# Rainsmore Workshop - Day 1\n",
    "\n",
    "## Configuring your environment\n",
    "\n",
    "In order to process and apply high-end Python algorithms to weather data, first you should ensure you have a suitable Python setup configured on your machine.\n",
    "\n",
    "We recommend you to go for conda, i.e., for [Anaconda](https://www.anaconda.com/) (for a full 3 GB conda installation) or [Miniconda](https://docs.conda.io/en/latest/miniconda.html) (for a smaller conda installation about 400 MB). \n",
    "\n",
    "Anaconda/Miniconda is a multiplatform Python distribution which is delivered and installed (usually) independently of the Python distributions that are already part of most operating systems (especially the Linux-based ones).\n",
    "\n",
    "If you use a Linux-operating system, many of your official system packages depend on (possibly different versions) of Python. Thus, opting for conda, you will be able to setup a Python ecosystem totally independent of that of your Linux system, avoiding potential conflicts among such different Python distributions.\n",
    "\n",
    "If you use Windows, conda may be the assumedly default Python distribution to be installed, which should adjust to your system smoothly when following its installer instructions.\n",
    "\n",
    "The installation instructions presented here assume:\n",
    "\n",
    "1. that you are using a Linux-based system;\n",
    "2. that you will go for Miniconda, and;\n",
    "\n",
    "are based on the installation instructions for Miniconda contained [here](https://conda.io/projects/conda/en/latest/user-guide/install/linux.html).\n",
    "\n",
    "Miniconda installation instructions for other operating systems can be found [here](https://conda.io/projects/conda/en/latest/user-guide/install/index.html). \n",
    "\n",
    "### Download and install miniconda on your system\n",
    "\n",
    "1. Download the Minoconda installer for Linux from this [link](https://conda.io/projects/conda/en/latest/user-guide/install/linux.html).\n",
    "2. Open a terminal and install the downloaded Miniconda distribution by running the command ```bash Miniconda3-latest-Linux-x86_64.sh```\n",
    "3. Close your terminal and open a new terminal to test if conda can now be found into your system by running the command ```conda --version```. If you get an answer like ```conda 4.14.0``` then everything is fine. If not, you may have to add conda to the PATH of your system by editing your shell profile (```.profile```, ```.bash_profile```, ```.zshrc```, or another profile depending on the shell you use in your Linux system).\n",
    "4. Update conda (conda is the package manager in Anaconda/Miniconda Python distributions) by running the command ```conda update conda```\n",
    "\n",
    "### Creating a environment and installing the most commonly required packages\n",
    "\n",
    "Miniconda is a minimal conda distribution. Thus, it does not come with all packages by default and you are supposed  to install them manually afterwards.\n",
    "\n",
    "Since you may have multiple Python projects, which may have different requirements, it is important to create "
   ]
  }
 ],
 "metadata": {
  "kernelspec": {
   "display_name": "Python 3 (ipykernel)",
   "language": "python",
   "name": "python3"
  },
  "language_info": {
   "codemirror_mode": {
    "name": "ipython",
    "version": 3
   },
   "file_extension": ".py",
   "mimetype": "text/x-python",
   "name": "python",
   "nbconvert_exporter": "python",
   "pygments_lexer": "ipython3",
   "version": "3.10.6"
  }
 },
 "nbformat": 4,
 "nbformat_minor": 5
}
